{
  "cells": [
    {
      "cell_type": "markdown",
      "metadata": {
        "id": "mEfPL00LH9E2"
      },
      "source": [
        "**Импортируем библиотеки**"
      ]
    },
    {
      "cell_type": "code",
      "execution_count": 1,
      "metadata": {
        "colab": {
          "base_uri": "https://localhost:8080/"
        },
        "id": "iTVOodb9ukhD",
        "outputId": "07686910-4e72-4a7a-f39d-cc972fab2b8a"
      },
      "outputs": [
        {
          "output_type": "stream",
          "name": "stdout",
          "text": [
            "Looking in indexes: https://pypi.org/simple, https://us-python.pkg.dev/colab-wheels/public/simple/\n",
            "Requirement already satisfied: transformers in /usr/local/lib/python3.10/dist-packages (4.29.2)\n",
            "Requirement already satisfied: keras_preprocessing in /usr/local/lib/python3.10/dist-packages (1.1.2)\n",
            "Requirement already satisfied: filelock in /usr/local/lib/python3.10/dist-packages (from transformers) (3.12.0)\n",
            "Requirement already satisfied: huggingface-hub<1.0,>=0.14.1 in /usr/local/lib/python3.10/dist-packages (from transformers) (0.15.1)\n",
            "Requirement already satisfied: numpy>=1.17 in /usr/local/lib/python3.10/dist-packages (from transformers) (1.22.4)\n",
            "Requirement already satisfied: packaging>=20.0 in /usr/local/lib/python3.10/dist-packages (from transformers) (23.1)\n",
            "Requirement already satisfied: pyyaml>=5.1 in /usr/local/lib/python3.10/dist-packages (from transformers) (6.0)\n",
            "Requirement already satisfied: regex!=2019.12.17 in /usr/local/lib/python3.10/dist-packages (from transformers) (2022.10.31)\n",
            "Requirement already satisfied: requests in /usr/local/lib/python3.10/dist-packages (from transformers) (2.27.1)\n",
            "Requirement already satisfied: tokenizers!=0.11.3,<0.14,>=0.11.1 in /usr/local/lib/python3.10/dist-packages (from transformers) (0.13.3)\n",
            "Requirement already satisfied: tqdm>=4.27 in /usr/local/lib/python3.10/dist-packages (from transformers) (4.65.0)\n",
            "Requirement already satisfied: six>=1.9.0 in /usr/local/lib/python3.10/dist-packages (from keras_preprocessing) (1.16.0)\n",
            "Requirement already satisfied: fsspec in /usr/local/lib/python3.10/dist-packages (from huggingface-hub<1.0,>=0.14.1->transformers) (2023.4.0)\n",
            "Requirement already satisfied: typing-extensions>=3.7.4.3 in /usr/local/lib/python3.10/dist-packages (from huggingface-hub<1.0,>=0.14.1->transformers) (4.5.0)\n",
            "Requirement already satisfied: urllib3<1.27,>=1.21.1 in /usr/local/lib/python3.10/dist-packages (from requests->transformers) (1.26.15)\n",
            "Requirement already satisfied: certifi>=2017.4.17 in /usr/local/lib/python3.10/dist-packages (from requests->transformers) (2022.12.7)\n",
            "Requirement already satisfied: charset-normalizer~=2.0.0 in /usr/local/lib/python3.10/dist-packages (from requests->transformers) (2.0.12)\n",
            "Requirement already satisfied: idna<4,>=2.5 in /usr/local/lib/python3.10/dist-packages (from requests->transformers) (3.4)\n"
          ]
        }
      ],
      "source": [
        "!pip install transformers keras_preprocessing"
      ]
    },
    {
      "cell_type": "code",
      "execution_count": 2,
      "metadata": {
        "id": "7B14-CphwSaC"
      },
      "outputs": [],
      "source": [
        "import os\n",
        "import numpy as np\n",
        "from numpy.linalg import norm\n",
        "import pickle\n",
        "import matplotlib.pyplot as plt\n",
        "import itertools\n",
        "from scipy.stats import norm as norm_d\n",
        "from scipy.stats import randint\n",
        "from scipy.optimize import minimize\n",
        "import copy\n",
        "import math\n",
        "import time\n",
        "from scipy.optimize import minimize\n",
        "from scipy.sparse.linalg import svds\n",
        "from scipy.linalg import svdvals\n",
        "import scipy\n",
        "from sklearn.datasets import load_svmlight_file\n",
        "import pickle\n",
        "from pathlib import Path\n",
        "import matplotlib.pyplot as plt\n",
        "from torch.optim import Optimizer\n",
        "import scipy.stats\n",
        "import tqdm\n",
        "from torch.utils.data import TensorDataset, DataLoader, RandomSampler, SequentialSampler\n",
        "from transformers import BertForSequenceClassification, DistilBertTokenizer,BertTokenizer,DistilBertForSequenceClassification\n",
        "import pandas as pd\n",
        "import torch.nn as nn\n",
        "import torch\n",
        "from keras_preprocessing.sequence import pad_sequences\n",
        "from sklearn.model_selection import train_test_split\n",
        "from sklearn.metrics import matthews_corrcoef\n",
        "import torchvision\n",
        "import torchvision.transforms as transforms\n",
        "import pandas as pd\n",
        "from torch.utils.data import TensorDataset, DataLoader, RandomSampler, SequentialSampler"
      ]
    },
    {
      "cell_type": "code",
      "execution_count": 3,
      "metadata": {
        "id": "XMXkx6QBwpcC"
      },
      "outputs": [],
      "source": [
        "import pathlib\n",
        "if not pathlib.Path('./functions.py').is_file():\n",
        "  # !wget https://raw.githubusercontent.com/alexrogozin12/opt_in_ml/master/homework_5/tests.py\n",
        "  !wget https://raw.githubusercontent.com/alexrogozin12/opt_in_ml/master/homework_5/functions.py #alexrogozin12/opt_in_ml/blob/master/homework_5/functions.py\n",
        "  !wget https://raw.githubusercontent.com/alexrogozin12/opt_in_ml/master/homework_5/datasets/a9a.txt\n",
        "  !wget https://raw.githubusercontent.com/alexrogozin12/opt_in_ml/master/homework_5/datasets/a5a.txt\n",
        "from functions import *\n",
        "# from tests import *"
      ]
    },
    {
      "cell_type": "markdown",
      "metadata": {
        "id": "HVKKAAdsJcm9"
      },
      "source": [
        "### Решаемая задача\n",
        "Для удобства продублируем здесь задачу, которую вы решали ещё в прошлом домашнем задании:\n",
        "\n",
        "$$ F(x) = f(x) + R(x) = \\frac{1}{m}\\sum\\limits_{i=1}^m\\underbrace{\\left(\\log\\left(1 + \\exp\\left(-y_i\\cdot (Ax)_i\\right)\\right) + \\frac{l_2}{2}\\|x\\|_2^2\\right)}_{f_i(x)} + \\underbrace{l_1\\|x\\|_1}_{R(x)} \\to \\min\\limits_{x\\in\\mathbb{R}^n} $$"
      ]
    },
    {
      "cell_type": "markdown",
      "metadata": {
        "id": "u1CopnRWIQUj"
      },
      "source": [
        "предобработка данных, согласно прошлому заданию"
      ]
    },
    {
      "cell_type": "code",
      "execution_count": 4,
      "metadata": {
        "id": "33gZlNon1F56"
      },
      "outputs": [],
      "source": [
        "def prepare_data(dataset):\n",
        "    filename = dataset + \".txt\"\n",
        "\n",
        "    data = load_svmlight_file(filename)\n",
        "    A, y = data[0], data[1]\n",
        "    m, n = A.shape\n",
        "    \n",
        "    if (2 in y) & (1 in y):\n",
        "        y = 2 * y - 3\n",
        "    if (2 in y) & (4 in y):\n",
        "        y = y - 3\n",
        "    assert((-1 in y) & (1 in y))\n",
        "    \n",
        "    sparsity_A = A.count_nonzero() / (m * n)\n",
        "    return A, y, m, n, sparsity_A\n",
        "\n",
        "def compute_L(dataset, A):\n",
        "    filename = dataset+\"_L.txt\"\n",
        "    file_path = Path(filename)\n",
        "    if file_path.is_file():\n",
        "        with open(filename, 'rb') as file:\n",
        "            L, average_L, worst_L = pickle.load(file)\n",
        "    else:\n",
        "        sigmas = svds(A, return_singular_vectors=False)\n",
        "        m = A.shape[0]\n",
        "        L = sigmas.max()**2 / (4*m)\n",
        "        \n",
        "        worst_L = 0\n",
        "        average_L = 0\n",
        "        denseA = A.toarray()\n",
        "        for i in range(m):\n",
        "            L_temp = (norm(denseA[i])**2)*1.0 / 4\n",
        "            average_L += L_temp / m\n",
        "            if L_temp > worst_L:\n",
        "                worst_L = L_temp\n",
        "        with open(filename, 'wb') as file:\n",
        "            pickle.dump([L, average_L, worst_L],file)\n",
        "    return L, average_L, worst_L"
      ]
    },
    {
      "cell_type": "code",
      "execution_count": 5,
      "metadata": {
        "colab": {
          "base_uri": "https://localhost:8080/"
        },
        "id": "0TPmoJ6H3gvL",
        "outputId": "2a45d7cd-8c5f-4bb9-dce9-7035083b314a"
      },
      "outputs": [
        {
          "output_type": "stream",
          "name": "stdout",
          "text": [
            "Число функций в сумме:  32561 , размерность задачи:  123\n",
            "Константа гладкости всей функции:  1.5719196992226614\n",
            "Средняя константа гладкости     :  3.467276803535652\n",
            "Худшая константа гладкости      :  3.5\n",
            "Доля ненулевых элементов:  0.11275696922074716\n"
          ]
        }
      ],
      "source": [
        "dataset = \"a9a\"\n",
        "A, y, m, n, sparsity_A = prepare_data(dataset)\n",
        "print(\"Число функций в сумме: \", m, \", размерность задачи: \", n)\n",
        "L, average_L, worst_L = compute_L(dataset, A) #L может зависеть от запуска, поэтому для каждой задачи нужно сохранить свою константу L\n",
        "print(\"Константа гладкости всей функции: \", L)\n",
        "print(\"Средняя константа гладкости     : \", average_L)\n",
        "print(\"Худшая константа гладкости      : \", worst_L)\n",
        "print(\"Доля ненулевых элементов: \", sparsity_A)"
      ]
    },
    {
      "cell_type": "markdown",
      "metadata": {
        "id": "E4KPH6OW1PYB"
      },
      "source": [
        "## Задание №1 \n",
        "\n",
        "__*данное задание стоит 3 балла*__ \n"
      ]
    },
    {
      "cell_type": "markdown",
      "metadata": {
        "id": "ptPsff6q6Df1"
      },
      "source": [
        "### Пункт №1\n",
        "\n",
        "__*данный пункт стоит 1 балл*__\n",
        "\n",
        "Реализуйте метод оптимизации Adam для логистической регрессии\n",
        "\n",
        "$$\n",
        "\\large\n",
        "\\begin{align}\n",
        "m_t &= \\beta_1 \\ m_{t-1} + (1 - \\beta_1)\\ g  \\\\ \n",
        "v_t &= \\beta_2 \\ v_{t-1} +  (1-\\beta_2)\\ g_{t}^2\\\\\n",
        "\\hat{m_t} &= \\frac{m_t}{1 - \\beta_1^t}\\\\\n",
        "\\hat{v_t} &= \\frac{v_t}{1 - \\beta_2^t}\\\\\n",
        "\\theta_t &= \\theta_{t-1} -  (\\frac{\\gamma}{\\sqrt{\\hat{v_t}} + \\delta}\\hat{m_t})\\\\\n",
        "\\end{align}\n",
        "$$\n",
        "\n",
        "https://arxiv.org/pdf/1412.6980.pdf"
      ]
    },
    {
      "cell_type": "code",
      "execution_count": 6,
      "metadata": {
        "id": "VHOlsSwx6Cfu"
      },
      "outputs": [],
      "source": [
        "# from functions import *\n",
        "def adam(filename, x_init, A, y, gamma, beta1, beta2, delta=1e-8, \n",
        "         l2=0, sparse_full=True, sparse_stoch=False, l1=0, S=50, max_t=np.inf,\n",
        "         batch_size=1, indices=None, save_info_period=100, x_star=None):\n",
        "    m, n = A.shape\n",
        "    assert(len(x_init) == n)\n",
        "    assert(len(y) == m)\n",
        "    if indices is None:\n",
        "        indices = randint.rvs(low=0, high=m, size=min(int(S*m*1.0/batch_size), int(100000/batch_size))*batch_size,random_state=42)\n",
        "    indices_size = len(indices)\n",
        "    if x_star is None:\n",
        "        x_star = np.zeros(n)\n",
        "    ref_point = np.array(x_star) #если знаем решение, то ref_point поможет вычислять расстояние до него\n",
        "    x = np.array(x_init)\n",
        "    mm = np.zeros(n)\n",
        "    v = np.zeros(n)\n",
        "    \n",
        "    #эти массивы мы будем сохранять в файл\n",
        "    its = np.array([0])\n",
        "    tim = np.array([0.0])\n",
        "    data_passes = np.array([0.0])\n",
        "    func_val = np.array([F(x, [A, y, l2, sparse_full, l1])])\n",
        "    sq_distances = np.array([norm(x - ref_point) ** 2])\n",
        "    \n",
        "    t_start = time.time()\n",
        "    num_of_data_passes = 0.0\n",
        "    \n",
        "    if sparse_stoch:\n",
        "        A_for_batch = A\n",
        "    else:\n",
        "        A_for_batch = A.toarray()\n",
        "    \n",
        "    indices_counter = 0\n",
        "    \n",
        "    #метод\n",
        "    print(int(S*m/batch_size))\n",
        "    for it in range(int(S*m/batch_size)):\n",
        "        if indices_counter == indices_size:\n",
        "            indices_counter = 0\n",
        "            indices = randint.rvs(low=0, high=m, size=indices_size)\n",
        "        batch_ind = indices[indices_counter:(indices_counter+batch_size)]\n",
        "        indices_counter += batch_size\n",
        "        #ваш код здесь\n",
        "        g = logreg_grad(x, [A_for_batch[indices], y[indices], l2, sparse_stoch])\n",
        "        mm = beta1 * mm + (1 - beta1) * g\n",
        "        v = beta2 * v + (1 - beta2) * g ** 2\n",
        "        m_hat = m / (1-beta1**(it+1))\n",
        "        v_hat = v / (1-beta2**(it+1))\n",
        "        x = x - gamma*m_hat/(v_hat + delta)\n",
        "\n",
        "        num_of_data_passes += batch_size/m\n",
        "        if ((it + 1) % save_info_period == 0):\n",
        "            its = np.append(its, it + 1)\n",
        "            tim = np.append(tim, time.time() - t_start)\n",
        "            data_passes = np.append(data_passes, num_of_data_passes)\n",
        "            func_val = np.append(func_val, F(x, [A, y, l2, sparse_full, l1]))\n",
        "            sq_distances = np.append(sq_distances, norm(x - ref_point) ** 2)\n",
        "        if tim[-1] > max_t:\n",
        "            break\n",
        "    \n",
        "    if ((it + 1) % save_info_period != 0):\n",
        "        its = np.append(its, it + 1)\n",
        "        tim = np.append(tim, time.time() - t_start)\n",
        "        data_passes = np.append(data_passes, num_of_data_passes)\n",
        "        func_val = np.append(func_val, F(x, [A, y, l2, sparse_full, l1]))\n",
        "        sq_distances = np.append(sq_distances, norm(x - ref_point) ** 2)\n",
        "    \n",
        "    #сохранение результатов в файл\n",
        "    res = {'last_iter':x, 'func_vals':func_val, 'iters':its, 'time':tim, 'data_passes':data_passes,\n",
        "           'squared_distances':sq_distances}\n",
        "    if not os.path.isdir('./dump'):\n",
        "      os.mkdir('./dump')\n",
        "    with open(\"dump/\"+filename+\"_Adam_gamma_\"+str(gamma)+\"_beta1_\"+str(beta1)+\"_beta2_\"+str(beta2)\n",
        "              +\"_l2_\"+str(l2)+\"_l1_\"+str(l1)+\"_num_of_epochs_\"+str(S)\n",
        "              +\"_batch_size_\"+str(batch_size)+\".txt\", 'wb') as file:\n",
        "        pickle.dump(res, file)\n",
        "\n",
        "    return res\n"
      ]
    },
    {
      "cell_type": "code",
      "execution_count": null,
      "metadata": {
        "colab": {
          "base_uri": "https://localhost:8080/"
        },
        "id": "pOwliBam5gMx",
        "outputId": "a56c9ae5-ed8f-4b43-b479-a9c485bc448e"
      },
      "outputs": [
        {
          "output_type": "stream",
          "name": "stdout",
          "text": [
            "CPU times: user 97 µs, sys: 15 µs, total: 112 µs\n",
            "Wall time: 116 µs\n"
          ]
        }
      ],
      "source": [
        "%%time\n",
        "np.random.seed(10)\n",
        "x_init = np.ones(n)\n",
        "dataset = \"a9a\"\n",
        "filename=dataset+\"_x_init_all_ones\"\n",
        "l2 = L / 10000\n",
        "l1 = L / 1000\n",
        "batch_size = 10\n",
        "gamma_gd = 1.0/((L+l2))\n",
        "gamma = 1.0/(6*(L+l2))\n",
        "gamma_schedule = [gamma, 10, 0.5]\n",
        "S = 10000\n",
        "beta1 = 0.9\n",
        "gamma_adam = 0.001\n",
        "gamma_adagrad = 1.0\n",
        "beta2 = 0.99\n",
        "indices = None\n",
        "\n",
        "res = adam(filename=filename, x_init=x_init, A=A, y=y, gamma=gamma_adam,\n",
        "           beta1=beta1, beta2=beta2, l2=l2, \n",
        "           sparse_full=False, sparse_stoch=False, l1=l1, S=S, batch_size=batch_size)\n"
      ]
    },
    {
      "cell_type": "markdown",
      "metadata": {
        "id": "-rJHWmyF5zq4"
      },
      "source": [
        "Тестируем"
      ]
    },
    {
      "cell_type": "code",
      "execution_count": null,
      "metadata": {
        "colab": {
          "base_uri": "https://localhost:8080/",
          "height": 409
        },
        "id": "RW4PuIDpBYRt",
        "outputId": "54a35a95-3200-4f08-a8b6-8e8930a7d634"
      },
      "outputs": [
        {
          "name": "stdout",
          "output_type": "stream",
          "text": [
            "--2023-05-31 08:42:44--  https://raw.githubusercontent.com/pcgames/datasets/master/tests/Adam_test.txt\n",
            "Resolving raw.githubusercontent.com (raw.githubusercontent.com)... 185.199.111.133, 185.199.110.133, 185.199.109.133, ...\n",
            "Connecting to raw.githubusercontent.com (raw.githubusercontent.com)|185.199.111.133|:443... connected.\n",
            "HTTP request sent, awaiting response... 200 OK\n",
            "Length: 13025933 (12M) [application/octet-stream]\n",
            "Saving to: ‘Adam_test.txt’\n",
            "\n",
            "Adam_test.txt       100%[===================>]  12.42M  --.-KB/s    in 0.1s    \n",
            "\n",
            "2023-05-31 08:42:45 (118 MB/s) - ‘Adam_test.txt’ saved [13025933/13025933]\n",
            "\n"
          ]
        },
        {
          "ename": "NameError",
          "evalue": "ignored",
          "output_type": "error",
          "traceback": [
            "\u001b[0;31m---------------------------------------------------------------------------\u001b[0m",
            "\u001b[0;31mNameError\u001b[0m                                 Traceback (most recent call last)",
            "\u001b[0;32m<ipython-input-16-4f07bbdd866a>\u001b[0m in \u001b[0;36m<cell line: 5>\u001b[0;34m()\u001b[0m\n\u001b[1;32m      3\u001b[0m \u001b[0;32mwith\u001b[0m \u001b[0mopen\u001b[0m\u001b[0;34m(\u001b[0m\u001b[0;34m'./Adam_test.txt'\u001b[0m\u001b[0;34m,\u001b[0m\u001b[0;34m'rb'\u001b[0m\u001b[0;34m)\u001b[0m \u001b[0;32mas\u001b[0m \u001b[0mf\u001b[0m\u001b[0;34m:\u001b[0m\u001b[0;34m\u001b[0m\u001b[0;34m\u001b[0m\u001b[0m\n\u001b[1;32m      4\u001b[0m   \u001b[0mtest_res\u001b[0m\u001b[0;34m=\u001b[0m\u001b[0mpickle\u001b[0m\u001b[0;34m.\u001b[0m\u001b[0mload\u001b[0m\u001b[0;34m(\u001b[0m\u001b[0mf\u001b[0m\u001b[0;34m)\u001b[0m\u001b[0;34m\u001b[0m\u001b[0;34m\u001b[0m\u001b[0m\n\u001b[0;32m----> 5\u001b[0;31m \u001b[0;32massert\u001b[0m \u001b[0;34m(\u001b[0m\u001b[0mabs\u001b[0m\u001b[0;34m(\u001b[0m\u001b[0mtest_res\u001b[0m\u001b[0;34m[\u001b[0m\u001b[0;34m'last_iter'\u001b[0m\u001b[0;34m]\u001b[0m\u001b[0;34m-\u001b[0m\u001b[0mres\u001b[0m\u001b[0;34m[\u001b[0m\u001b[0;34m'last_iter'\u001b[0m\u001b[0;34m]\u001b[0m\u001b[0;34m)\u001b[0m\u001b[0;34m<\u001b[0m\u001b[0;36m1e-6\u001b[0m\u001b[0;34m)\u001b[0m\u001b[0;34m.\u001b[0m\u001b[0mall\u001b[0m\u001b[0;34m(\u001b[0m\u001b[0;34m)\u001b[0m\u001b[0;34m,\u001b[0m\u001b[0;34m'что-то не так...'\u001b[0m\u001b[0;34m\u001b[0m\u001b[0;34m\u001b[0m\u001b[0m\n\u001b[0m",
            "\u001b[0;31mNameError\u001b[0m: name 'res' is not defined"
          ]
        }
      ],
      "source": [
        "if not pathlib.Path('./Adam_test.txt').is_file():\n",
        "  !wget https://raw.githubusercontent.com/pcgames/datasets/master/tests/Adam_test.txt\n",
        "with open('./Adam_test.txt','rb') as f:\n",
        "  test_res=pickle.load(f)\n",
        "assert (abs(test_res['last_iter']-res['last_iter'])<1e-6).all(),'что-то не так...'"
      ]
    },
    {
      "cell_type": "markdown",
      "metadata": {
        "id": "v9LECLs0i-eF"
      },
      "source": [
        "### Пункт №2\n",
        "\n",
        "__*данный пункт стоит 1 балл*__\n",
        "\n",
        "Сравните результаты данного экспермента с результатами, полученными в прошлом домашнем задании для методов  __SGD__, __SVRG__ и ускоренным методом Нестерова (метод __FISTA__ без prox_r):\n",
        "- Нарисуйте графики сходимости\n",
        "- Исходя из теории, полученной на лекции, обоснуйте результаты, полученные в эксперименте, а так же сделайте выводы о работе данных методов на поставленной задаче."
      ]
    },
    {
      "cell_type": "code",
      "execution_count": null,
      "metadata": {
        "id": "5WI6ng3c5BAB",
        "colab": {
          "base_uri": "https://localhost:8080/",
          "height": 396
        },
        "outputId": "04b24767-ae9f-4c7c-d647-d94129125756"
      },
      "outputs": [
        {
          "output_type": "error",
          "ename": "KeyboardInterrupt",
          "evalue": "ignored",
          "traceback": [
            "\u001b[0;31m---------------------------------------------------------------------------\u001b[0m",
            "\u001b[0;31mKeyboardInterrupt\u001b[0m                         Traceback (most recent call last)",
            "\u001b[0;32m<ipython-input-13-3571df4f3ed3>\u001b[0m in \u001b[0;36m<cell line: 13>\u001b[0;34m()\u001b[0m\n\u001b[1;32m     11\u001b[0m \u001b[0;31m#      batch_size=batch_size, indices=None)\u001b[0m\u001b[0;34m\u001b[0m\u001b[0;34m\u001b[0m\u001b[0m\n\u001b[1;32m     12\u001b[0m \u001b[0;34m\u001b[0m\u001b[0m\n\u001b[0;32m---> 13\u001b[0;31m res_fista = FISTA(filename=filename, x_init=x_init, A=A, y=y, L=L+l2, mu=l2, \n\u001b[0m\u001b[1;32m     14\u001b[0m      sparse=False, l1=l1, S=S, max_t=np.inf)\n\u001b[1;32m     15\u001b[0m \u001b[0;31m# plt.plot()\u001b[0m\u001b[0;34m\u001b[0m\u001b[0;34m\u001b[0m\u001b[0m\n",
            "\u001b[0;32m/content/algorithms.py\u001b[0m in \u001b[0;36mFISTA\u001b[0;34m(filename, x_init, A, y, L, mu, sparse, l1, S, max_t, save_info_period, x_star, f_star)\u001b[0m\n\u001b[1;32m     89\u001b[0m \u001b[0;34m\u001b[0m\u001b[0m\n\u001b[1;32m     90\u001b[0m         \u001b[0;31m#ваш код здесь (возможно, ещё где-то придётся вставить код)\u001b[0m\u001b[0;34m\u001b[0m\u001b[0;34m\u001b[0m\u001b[0m\n\u001b[0;32m---> 91\u001b[0;31m         \u001b[0mgrad_w\u001b[0m \u001b[0;34m=\u001b[0m \u001b[0mlogreg_grad\u001b[0m\u001b[0;34m(\u001b[0m\u001b[0myk\u001b[0m\u001b[0;34m,\u001b[0m \u001b[0;34m[\u001b[0m\u001b[0mA\u001b[0m\u001b[0;34m,\u001b[0m \u001b[0my\u001b[0m\u001b[0;34m,\u001b[0m \u001b[0mmu\u001b[0m\u001b[0;34m,\u001b[0m \u001b[0msparse\u001b[0m\u001b[0;34m]\u001b[0m\u001b[0;34m)\u001b[0m\u001b[0;34m\u001b[0m\u001b[0;34m\u001b[0m\u001b[0m\n\u001b[0m\u001b[1;32m     92\u001b[0m         \u001b[0mxk1\u001b[0m \u001b[0;34m=\u001b[0m \u001b[0mprox_R\u001b[0m\u001b[0;34m(\u001b[0m\u001b[0myk\u001b[0m \u001b[0;34m-\u001b[0m \u001b[0mgrad_w\u001b[0m \u001b[0;34m/\u001b[0m \u001b[0mL\u001b[0m\u001b[0;34m,\u001b[0m \u001b[0ml1\u001b[0m \u001b[0;34m/\u001b[0m \u001b[0mL\u001b[0m\u001b[0;34m)\u001b[0m\u001b[0;34m\u001b[0m\u001b[0;34m\u001b[0m\u001b[0m\n\u001b[1;32m     93\u001b[0m         \u001b[0myk\u001b[0m \u001b[0;34m=\u001b[0m \u001b[0mxk1\u001b[0m \u001b[0;34m+\u001b[0m \u001b[0;34m(\u001b[0m\u001b[0mnp\u001b[0m\u001b[0;34m.\u001b[0m\u001b[0msqrt\u001b[0m\u001b[0;34m(\u001b[0m\u001b[0mk\u001b[0m\u001b[0;34m)\u001b[0m \u001b[0;34m-\u001b[0m \u001b[0;36m1\u001b[0m\u001b[0;34m)\u001b[0m \u001b[0;34m*\u001b[0m \u001b[0;34m(\u001b[0m\u001b[0mxk1\u001b[0m \u001b[0;34m-\u001b[0m \u001b[0mxk\u001b[0m\u001b[0;34m)\u001b[0m \u001b[0;34m/\u001b[0m \u001b[0;34m(\u001b[0m\u001b[0mnp\u001b[0m\u001b[0;34m.\u001b[0m\u001b[0msqrt\u001b[0m\u001b[0;34m(\u001b[0m\u001b[0mk\u001b[0m\u001b[0;34m)\u001b[0m \u001b[0;34m+\u001b[0m \u001b[0;36m1\u001b[0m\u001b[0;34m)\u001b[0m\u001b[0;34m\u001b[0m\u001b[0;34m\u001b[0m\u001b[0m\n",
            "\u001b[0;32m/content/functions.py\u001b[0m in \u001b[0;36mlogreg_grad\u001b[0;34m(x, args)\u001b[0m\n\u001b[1;32m     52\u001b[0m         \u001b[0mdegree\u001b[0m \u001b[0;34m=\u001b[0m \u001b[0;34m-\u001b[0m\u001b[0my\u001b[0m \u001b[0;34m*\u001b[0m \u001b[0;34m(\u001b[0m\u001b[0mA\u001b[0m\u001b[0;34m.\u001b[0m\u001b[0mdot\u001b[0m\u001b[0;34m(\u001b[0m\u001b[0mx\u001b[0m\u001b[0;34m)\u001b[0m\u001b[0;34m)\u001b[0m\u001b[0;34m\u001b[0m\u001b[0;34m\u001b[0m\u001b[0m\n\u001b[1;32m     53\u001b[0m         \u001b[0msigmas\u001b[0m \u001b[0;34m=\u001b[0m \u001b[0mexpit\u001b[0m\u001b[0;34m(\u001b[0m\u001b[0mdegree\u001b[0m\u001b[0;34m)\u001b[0m\u001b[0;34m\u001b[0m\u001b[0;34m\u001b[0m\u001b[0m\n\u001b[0;32m---> 54\u001b[0;31m         \u001b[0mloss_grad\u001b[0m \u001b[0;34m=\u001b[0m \u001b[0;34m-\u001b[0m\u001b[0mA\u001b[0m\u001b[0;34m.\u001b[0m\u001b[0mT\u001b[0m\u001b[0;34m.\u001b[0m\u001b[0mdot\u001b[0m\u001b[0;34m(\u001b[0m\u001b[0my\u001b[0m \u001b[0;34m*\u001b[0m \u001b[0msigmas\u001b[0m\u001b[0;34m)\u001b[0m \u001b[0;34m/\u001b[0m \u001b[0mA\u001b[0m\u001b[0;34m.\u001b[0m\u001b[0mshape\u001b[0m\u001b[0;34m[\u001b[0m\u001b[0;36m0\u001b[0m\u001b[0;34m]\u001b[0m\u001b[0;34m\u001b[0m\u001b[0;34m\u001b[0m\u001b[0m\n\u001b[0m\u001b[1;32m     55\u001b[0m     \u001b[0;32massert\u001b[0m \u001b[0mlen\u001b[0m\u001b[0;34m(\u001b[0m\u001b[0mloss_grad\u001b[0m\u001b[0;34m)\u001b[0m \u001b[0;34m==\u001b[0m \u001b[0mlen\u001b[0m\u001b[0;34m(\u001b[0m\u001b[0mx\u001b[0m\u001b[0;34m)\u001b[0m\u001b[0;34m\u001b[0m\u001b[0;34m\u001b[0m\u001b[0m\n\u001b[1;32m     56\u001b[0m     \u001b[0;32mreturn\u001b[0m \u001b[0mloss_grad\u001b[0m \u001b[0;34m+\u001b[0m \u001b[0mmu\u001b[0m \u001b[0;34m*\u001b[0m \u001b[0mx\u001b[0m\u001b[0;34m\u001b[0m\u001b[0;34m\u001b[0m\u001b[0m\n",
            "\u001b[0;32m/usr/local/lib/python3.10/dist-packages/scipy/sparse/_base.py\u001b[0m in \u001b[0;36mdot\u001b[0;34m(self, other)\u001b[0m\n\u001b[1;32m    414\u001b[0m             \u001b[0;32mreturn\u001b[0m \u001b[0mself\u001b[0m \u001b[0;34m*\u001b[0m \u001b[0mother\u001b[0m\u001b[0;34m\u001b[0m\u001b[0;34m\u001b[0m\u001b[0m\n\u001b[1;32m    415\u001b[0m         \u001b[0;32melse\u001b[0m\u001b[0;34m:\u001b[0m\u001b[0;34m\u001b[0m\u001b[0;34m\u001b[0m\u001b[0m\n\u001b[0;32m--> 416\u001b[0;31m             \u001b[0;32mreturn\u001b[0m \u001b[0mself\u001b[0m \u001b[0;34m@\u001b[0m \u001b[0mother\u001b[0m\u001b[0;34m\u001b[0m\u001b[0;34m\u001b[0m\u001b[0m\n\u001b[0m\u001b[1;32m    417\u001b[0m \u001b[0;34m\u001b[0m\u001b[0m\n\u001b[1;32m    418\u001b[0m     \u001b[0;32mdef\u001b[0m \u001b[0mpower\u001b[0m\u001b[0;34m(\u001b[0m\u001b[0mself\u001b[0m\u001b[0;34m,\u001b[0m \u001b[0mn\u001b[0m\u001b[0;34m,\u001b[0m \u001b[0mdtype\u001b[0m\u001b[0;34m=\u001b[0m\u001b[0;32mNone\u001b[0m\u001b[0;34m)\u001b[0m\u001b[0;34m:\u001b[0m\u001b[0;34m\u001b[0m\u001b[0;34m\u001b[0m\u001b[0m\n",
            "\u001b[0;32m/usr/local/lib/python3.10/dist-packages/scipy/sparse/_base.py\u001b[0m in \u001b[0;36m__matmul__\u001b[0;34m(self, other)\u001b[0m\n\u001b[1;32m    628\u001b[0m             raise ValueError(\"Scalar operands are not allowed, \"\n\u001b[1;32m    629\u001b[0m                              \"use '*' instead\")\n\u001b[0;32m--> 630\u001b[0;31m         \u001b[0;32mreturn\u001b[0m \u001b[0mself\u001b[0m\u001b[0;34m.\u001b[0m\u001b[0m_mul_dispatch\u001b[0m\u001b[0;34m(\u001b[0m\u001b[0mother\u001b[0m\u001b[0;34m)\u001b[0m\u001b[0;34m\u001b[0m\u001b[0;34m\u001b[0m\u001b[0m\n\u001b[0m\u001b[1;32m    631\u001b[0m \u001b[0;34m\u001b[0m\u001b[0m\n\u001b[1;32m    632\u001b[0m     \u001b[0;32mdef\u001b[0m \u001b[0m__rmatmul__\u001b[0m\u001b[0;34m(\u001b[0m\u001b[0mself\u001b[0m\u001b[0;34m,\u001b[0m \u001b[0mother\u001b[0m\u001b[0;34m)\u001b[0m\u001b[0;34m:\u001b[0m\u001b[0;34m\u001b[0m\u001b[0;34m\u001b[0m\u001b[0m\n",
            "\u001b[0;32m/usr/local/lib/python3.10/dist-packages/scipy/sparse/_base.py\u001b[0m in \u001b[0;36m_mul_dispatch\u001b[0;34m(self, other)\u001b[0m\n\u001b[1;32m    526\u001b[0m             \u001b[0;31m# Fast path for the most common case\u001b[0m\u001b[0;34m\u001b[0m\u001b[0;34m\u001b[0m\u001b[0m\n\u001b[1;32m    527\u001b[0m             \u001b[0;32mif\u001b[0m \u001b[0mother\u001b[0m\u001b[0;34m.\u001b[0m\u001b[0mshape\u001b[0m \u001b[0;34m==\u001b[0m \u001b[0;34m(\u001b[0m\u001b[0mN\u001b[0m\u001b[0;34m,\u001b[0m\u001b[0;34m)\u001b[0m\u001b[0;34m:\u001b[0m\u001b[0;34m\u001b[0m\u001b[0;34m\u001b[0m\u001b[0m\n\u001b[0;32m--> 528\u001b[0;31m                 \u001b[0;32mreturn\u001b[0m \u001b[0mself\u001b[0m\u001b[0;34m.\u001b[0m\u001b[0m_mul_vector\u001b[0m\u001b[0;34m(\u001b[0m\u001b[0mother\u001b[0m\u001b[0;34m)\u001b[0m\u001b[0;34m\u001b[0m\u001b[0;34m\u001b[0m\u001b[0m\n\u001b[0m\u001b[1;32m    529\u001b[0m             \u001b[0;32melif\u001b[0m \u001b[0mother\u001b[0m\u001b[0;34m.\u001b[0m\u001b[0mshape\u001b[0m \u001b[0;34m==\u001b[0m \u001b[0;34m(\u001b[0m\u001b[0mN\u001b[0m\u001b[0;34m,\u001b[0m \u001b[0;36m1\u001b[0m\u001b[0;34m)\u001b[0m\u001b[0;34m:\u001b[0m\u001b[0;34m\u001b[0m\u001b[0;34m\u001b[0m\u001b[0m\n\u001b[1;32m    530\u001b[0m                 \u001b[0;32mreturn\u001b[0m \u001b[0mself\u001b[0m\u001b[0;34m.\u001b[0m\u001b[0m_mul_vector\u001b[0m\u001b[0;34m(\u001b[0m\u001b[0mother\u001b[0m\u001b[0;34m.\u001b[0m\u001b[0mravel\u001b[0m\u001b[0;34m(\u001b[0m\u001b[0;34m)\u001b[0m\u001b[0;34m)\u001b[0m\u001b[0;34m.\u001b[0m\u001b[0mreshape\u001b[0m\u001b[0;34m(\u001b[0m\u001b[0mM\u001b[0m\u001b[0;34m,\u001b[0m \u001b[0;36m1\u001b[0m\u001b[0;34m)\u001b[0m\u001b[0;34m\u001b[0m\u001b[0;34m\u001b[0m\u001b[0m\n",
            "\u001b[0;32m/usr/local/lib/python3.10/dist-packages/scipy/sparse/_compressed.py\u001b[0m in \u001b[0;36m_mul_vector\u001b[0;34m(self, other)\u001b[0m\n\u001b[1;32m    487\u001b[0m         \u001b[0;31m# csr_matvec or csc_matvec\u001b[0m\u001b[0;34m\u001b[0m\u001b[0;34m\u001b[0m\u001b[0m\n\u001b[1;32m    488\u001b[0m         \u001b[0mfn\u001b[0m \u001b[0;34m=\u001b[0m \u001b[0mgetattr\u001b[0m\u001b[0;34m(\u001b[0m\u001b[0m_sparsetools\u001b[0m\u001b[0;34m,\u001b[0m \u001b[0mself\u001b[0m\u001b[0;34m.\u001b[0m\u001b[0mformat\u001b[0m \u001b[0;34m+\u001b[0m \u001b[0;34m'_matvec'\u001b[0m\u001b[0;34m)\u001b[0m\u001b[0;34m\u001b[0m\u001b[0;34m\u001b[0m\u001b[0m\n\u001b[0;32m--> 489\u001b[0;31m         \u001b[0mfn\u001b[0m\u001b[0;34m(\u001b[0m\u001b[0mM\u001b[0m\u001b[0;34m,\u001b[0m \u001b[0mN\u001b[0m\u001b[0;34m,\u001b[0m \u001b[0mself\u001b[0m\u001b[0;34m.\u001b[0m\u001b[0mindptr\u001b[0m\u001b[0;34m,\u001b[0m \u001b[0mself\u001b[0m\u001b[0;34m.\u001b[0m\u001b[0mindices\u001b[0m\u001b[0;34m,\u001b[0m \u001b[0mself\u001b[0m\u001b[0;34m.\u001b[0m\u001b[0mdata\u001b[0m\u001b[0;34m,\u001b[0m \u001b[0mother\u001b[0m\u001b[0;34m,\u001b[0m \u001b[0mresult\u001b[0m\u001b[0;34m)\u001b[0m\u001b[0;34m\u001b[0m\u001b[0;34m\u001b[0m\u001b[0m\n\u001b[0m\u001b[1;32m    490\u001b[0m \u001b[0;34m\u001b[0m\u001b[0m\n\u001b[1;32m    491\u001b[0m         \u001b[0;32mreturn\u001b[0m \u001b[0mresult\u001b[0m\u001b[0;34m\u001b[0m\u001b[0;34m\u001b[0m\u001b[0m\n",
            "\u001b[0;31mKeyboardInterrupt\u001b[0m: "
          ]
        }
      ],
      "source": [
        "from algorithms import *\n",
        "\n",
        "\n",
        "res_sgd = sgd_const_stepsize(filename=filename, x_init=x_init, A=A, y=y, gamma=gamma, l2=l2, \n",
        "     sparse_full=False, sparse_stoch=False, \n",
        "     l1=l1, S=S, max_t=np.inf, batch_size=batch_size)\n",
        "\n",
        "res_svrg = svrg(filename=filename, x_init=x_init, A=A, y=y, gamma=gamma, l2=l2, \n",
        "     sparse_full=False, sparse_stoch=False, \n",
        "     l1=l1, S=S, max_t=np.inf,\n",
        "     batch_size=batch_size, indices=None)\n",
        "\n",
        "res_fista = FISTA(filename=filename, x_init=x_init, A=A, y=y, L=L+l2, mu=l2, \n",
        "     sparse=False, l1=l1, S=S, max_t=np.inf)"
      ]
    },
    {
      "cell_type": "code",
      "execution_count": null,
      "metadata": {
        "id": "bakpt6NqfoeE"
      },
      "outputs": [],
      "source": [
        "plt.plot(res['func_vals'], label='Adam')\n",
        "plt.plot(res_sgd['func_vals'], label='SGD')\n",
        "plt.plot(res_svrg['func_vals'], label='SVRG')\n",
        "\n",
        "plt.plot(res_fista['func_vals'], label='FISTA')\n",
        "plt.legend()\n",
        "\n",
        "# dataset = \"a9a\"\n",
        "# filename=dataset+\"_x_init_all_ones\"\n",
        "\n",
        "# methods = [\n",
        "#          ['Adam', [l2, l1, S], f', S ={S}, ', None]\n",
        "#          ['SGD', [l2, l1, S], f', S ={S}, ', None]\n",
        "#          ['SVRG', [l2, l1, S], f', S ={S}, ', None]\n",
        "#          ['FISTA', [l2, l1, S], f', S ={S}, ', None]\n",
        "# ]\n",
        "\n",
        "# mode_y = 'squared_distances'\n",
        "# mode_x = 'time'\n",
        "# figsize = (12, 8)\n",
        "# fontsize = 20\n",
        "# title = dataset+\", (m,n) = (\"+str(m)+\",\"+str(n)+\"), l2 = L/\"+str(int(L/l2))+\", l1 = L/\"+str(int(L/l1))\n",
        "\n",
        "# args_for_plots = [dataset, filename, mode_y, mode_x, figsize, fontsize, title, methods]\n",
        "# make_plots(args=args_for_plots)\n",
        "# plt.show()"
      ]
    },
    {
      "cell_type": "markdown",
      "source": [
        "*Описать результат*"
      ],
      "metadata": {
        "id": "n0N-F2iwG5gQ"
      }
    },
    {
      "cell_type": "markdown",
      "metadata": {
        "id": "TMYsaZsnhqkt"
      },
      "source": [
        "### Пункт №3 \n",
        "\n",
        "__*данный пункт стоит 1 балл*__\n",
        "\n",
        "Проведите аналогичный эксперимент на другом датасете, сохраните результат и отправьте его вместе с домашним заданием"
      ]
    },
    {
      "cell_type": "code",
      "execution_count": null,
      "metadata": {
        "id": "GviwusXrhTEs"
      },
      "outputs": [],
      "source": [
        "dataset = \"a5a\"\n",
        "A, y, m, n, sparsity_A = prepare_data(dataset)\n",
        "print(\"Число функций в сумме: \", m, \", размерность задачи: \", n)\n",
        "L, average_L, worst_L = compute_L(dataset, A) #L может зависеть от запуска, поэтому для каждой задачи нужно сохранить свою константу L\n",
        "print(\"Константа гладкости всей функции: \", L)\n",
        "print(\"Средняя константа гладкости     : \", average_L)\n",
        "print(\"Худшая константа гладкости      : \", worst_L)\n",
        "print(\"Доля ненулевых элементов: \", sparsity_A)\n",
        "%%time\n",
        "np.random.seed(10)\n",
        "x_init = np.ones(n)\n",
        "dataset = \"a5a\"\n",
        "filename=dataset+\"_x_init_all_ones\"\n",
        "l2 = L / 10000\n",
        "l1 = L / 1000\n",
        "batch_size = 10\n",
        "gamma_gd = 1.0/((L+l2))\n",
        "gamma = 1.0/(6*(L+l2))\n",
        "gamma_schedule = [gamma, 10, 0.5]\n",
        "S = 10000\n",
        "beta1 = 0.9\n",
        "gamma_adam = 0.001\n",
        "gamma_adagrad = 1.0\n",
        "beta2 = 0.99\n",
        "indices = None\n",
        "\n",
        "res = adam(filename=filename, x_init=x_init, A=A, y=y, gamma=gamma_adam,\n",
        "           beta1=beta1, beta2=beta2, l2=l2, \n",
        "           sparse_full=False, sparse_stoch=False, l1=l1, S=S, batch_size=batch_size)\n"
      ]
    },
    {
      "cell_type": "markdown",
      "metadata": {
        "id": "RMw5aUP_1Zrg"
      },
      "source": [
        "## Задание №2\n",
        "\n",
        "__*данное задание стоит 4 балла*__"
      ]
    },
    {
      "cell_type": "markdown",
      "metadata": {
        "id": "jTV5--U-GYre"
      },
      "source": [
        "### Пункт №1\n",
        "__*данный пункт стоит 2 балла*__\n",
        "\n",
        "реализовать метод оптимизации ACClip, о котором рассказывалось на лекции  \n",
        "$$\n",
        "\\large\n",
        "\\begin{align}\n",
        "for \\, k=&1\\cdots N- количество \\, эпох\\, прохода\\, по\\, данным\\\\\n",
        "&for \\, t=1\\cdots T- количество \\, частей\\, , на \\, которое \\,разделен \\, весь \\, датасет\\,рандомным\\,образом\\\\\n",
        "&\\,\\,\\,\\,\\,\\,\\,\\,m_t = \\beta_1 \\ m_{t-1} + (1 - \\beta_1)\\ g_t \\\\ \n",
        "&\\,\\,\\,\\,\\,\\,\\,\\, \\tau^\\alpha_t = \\beta_2 \\tau_{t-1}^\\alpha +  (1-\\beta_2)\\ g_{t}^\\alpha  \\\\\n",
        "&\\,\\,\\,\\,\\,\\,\\,\\,\\hat{g_t} = \\min\\{\\frac{\\tau_t}{|m_t|+\\epsilon},1\\}m_t \\\\\n",
        "%\\hat{v_t} = \\frac{v_t}{1 - \\beta^t}\\\\\n",
        "&\\,\\,\\,\\,\\,\\,\\,\\,\\theta_t = \\theta_{t-1} -  \\eta \\hat{g_t}\\\\\n",
        "& endfor\\\\\n",
        "endfor\n",
        "\\end{align}\n",
        "$$\n",
        "\n",
        "https://arxiv.org/pdf/1912.03194.pdf\n"
      ]
    },
    {
      "cell_type": "code",
      "execution_count": 7,
      "metadata": {
        "id": "b3-5-6U-Bu2j"
      },
      "outputs": [],
      "source": [
        "class ACC(Optimizer):\n",
        "    def __init__(self, \n",
        "                 params, \n",
        "                 lr=1e-4, \n",
        "                 betas=(0.9, 0.99), \n",
        "                 eps=1e-5,\n",
        "                 w=1e-5,\n",
        "                 alpha=2):\n",
        "\n",
        "        defaults = dict(lr=lr, betas=betas, eps=eps,weight_decay=w,alpha=2)\n",
        "        # тут вызываем конструктор базового класса и сохраняем параметры обучения\n",
        "        # их можно достать через self.param_groups\n",
        "        super(ACC, self).__init__(params, defaults)\n",
        "\n",
        "    def step(self,closure=None):\n",
        "\n",
        "        loss = None\n",
        "\n",
        "        for group in self.param_groups:\n",
        "            # итерируемся по всем группам параметров нашей сети\n",
        "            # тут можно вытащить сохраненные параметры в группе\n",
        "            beta1, beta2 = group['betas'] \n",
        "            eps = group['eps']\n",
        "            w = group['weight_decay']\n",
        "            lr = group['lr']\n",
        "            alpha=group['alpha']\n",
        "\n",
        "            for p in group['params']:\n",
        "                # итерируемся по всем парамерам в данно группе\n",
        "                # если нет градиента по параметрам скипаем его\n",
        "                if p.grad is None:\n",
        "                    continue\n",
        "                # забираем тензор градиента    \n",
        "                grad = p.grad.data\n",
        "                \n",
        "                # тут храняться значения, которые мы расчитываем в процессе \n",
        "                # по каждому параметру в группе нужно расчитывать свои значения\n",
        "                state = self.state[p]\n",
        "\n",
        "                # если параметры мы еще не записали инициализируем их значения\n",
        "                if len(state) == 0:\n",
        "                    state['step'] = 0\n",
        "                    #начальное значение m\n",
        "                    state['momentum'] = torch.zeros_like(p.data)\n",
        "\n",
        "                    # начальное значение \\tau^{\\alpha}\n",
        "                    state['t'] = torch.zeros_like(p.data)\n",
        "\n",
        "\n",
        "                t, m = state['t'], state['momentum']\n",
        "                        \n",
        "                # запоминаем шаг\n",
        "                state['step'] += 1\n",
        "                # Считаем параметры.\n",
        "                m = beta1 * m + (1 - beta1) * grad\n",
        "                t = torch.pow(beta2*torch.pow(t, alpha)+(1-beta2)*(grad.abs()**alpha), 1./alpha)\n",
        "                g_hat = (t/(m.abs()+eps)).clamp(min=0.0, max=1.0) * m\n",
        "                # обновляем веса в p.data, \n",
        "                p.data = p.data - lr * g_hat\n",
        "        return loss"
      ]
    },
    {
      "cell_type": "markdown",
      "metadata": {
        "id": "GlAvmWSdyoyX"
      },
      "source": [
        "Протестируем реализованный метод"
      ]
    },
    {
      "cell_type": "code",
      "execution_count": null,
      "metadata": {
        "colab": {
          "base_uri": "https://localhost:8080/"
        },
        "id": "qexxOhQSj8Mu",
        "outputId": "446e1180-13cc-44f2-bf40-4327b7b258e3"
      },
      "outputs": [
        {
          "output_type": "stream",
          "name": "stdout",
          "text": [
            "--2023-06-02 06:05:48--  https://raw.githubusercontent.com/pcgames/datasets/master/apples_pears.csv\n",
            "Resolving raw.githubusercontent.com (raw.githubusercontent.com)... 185.199.108.133, 185.199.111.133, 185.199.109.133, ...\n",
            "Connecting to raw.githubusercontent.com (raw.githubusercontent.com)|185.199.108.133|:443... connected.\n",
            "HTTP request sent, awaiting response... 200 OK\n",
            "Length: 42590 (42K) [text/plain]\n",
            "Saving to: ‘apples_pears.csv’\n",
            "\n",
            "apples_pears.csv    100%[===================>]  41.59K  --.-KB/s    in 0.003s  \n",
            "\n",
            "2023-06-02 06:05:48 (12.4 MB/s) - ‘apples_pears.csv’ saved [42590/42590]\n",
            "\n",
            "--2023-06-02 06:05:49--  https://raw.githubusercontent.com/pcgames/datasets/master/tests/ACC_test.pt\n",
            "Resolving raw.githubusercontent.com (raw.githubusercontent.com)... 185.199.108.133, 185.199.109.133, 185.199.110.133, ...\n",
            "Connecting to raw.githubusercontent.com (raw.githubusercontent.com)|185.199.108.133|:443... connected.\n",
            "HTTP request sent, awaiting response... 200 OK\n",
            "Length: 1153 (1.1K) [application/octet-stream]\n",
            "Saving to: ‘ACC_test.pt’\n",
            "\n",
            "ACC_test.pt         100%[===================>]   1.13K  --.-KB/s    in 0s      \n",
            "\n",
            "2023-06-02 06:05:49 (78.8 MB/s) - ‘ACC_test.pt’ saved [1153/1153]\n",
            "\n"
          ]
        },
        {
          "output_type": "stream",
          "name": "stderr",
          "text": [
            "/usr/local/lib/python3.10/dist-packages/torch/nn/_reduction.py:42: UserWarning: size_average and reduce args will be deprecated, please use reduction='sum' instead.\n",
            "  warnings.warn(warning.format(ret))\n"
          ]
        }
      ],
      "source": [
        "if not pathlib.Path('./apples_pears.csv').is_file():\n",
        "  !wget https://raw.githubusercontent.com/pcgames/datasets/master/apples_pears.csv\n",
        "  !wget https://raw.githubusercontent.com/pcgames/datasets/master/tests/ACC_test.pt\n",
        "\n",
        "\n",
        "data=pd.read_csv('./apples_pears.csv')\n",
        "X = torch.FloatTensor(data.iloc[:,:2].values) # матрица объекты-признаки\n",
        "y = torch.LongTensor(data['target'].values.reshape((-1, 1))).view(-1)  # классы (столбец из нулей и единиц)\n",
        "\n",
        "torch.manual_seed(10)\n",
        "np.random.seed(10)\n",
        "NN=nn.Sequential(nn.Linear(X.shape[1],\n",
        "                                torch.unique(y).shape.numel()\n",
        "                                ),\n",
        "                       )\n",
        "loss_fn=torch.nn.CrossEntropyLoss(size_average=False)\n",
        "\n",
        "learning_rate = 0.01  \n",
        "optimizer = ACC(NN.parameters(), lr=learning_rate)\n",
        "for t in range(500):\n",
        "    y_pred=NN.forward(X)\n",
        "    loss = loss_fn(y_pred,y)\n",
        "    optimizer.zero_grad()\n",
        "    loss.backward()\n",
        "    optimizer.step()\n",
        "testing_NN=nn.Sequential(nn.Linear(X.shape[1],\n",
        "                                torch.unique(y).shape.numel()\n",
        "                                ),\n",
        "                       )\n",
        "testing_NN.load_state_dict(torch.load('./ACC_test.pt'))\n",
        "a=testing_NN.parameters()\n",
        "\n",
        "for b in NN.parameters():\n",
        "  c=next(a).data.clone()\n",
        "  d=b.data.clone()\n",
        "  assert ((c-d).abs()<1e-6).values, 'что-то не так!'\n"
      ]
    },
    {
      "cell_type": "markdown",
      "metadata": {
        "id": "ckwO8PMK9WqI"
      },
      "source": [
        "### Пункт №2\n",
        "__*в данном пункте описание каждого эксперимента стоит 1 балл*__\n",
        "\n",
        "Проведите эксперименты ,аналогичные проведенным на семинаре, с использованием алгоритма ACClip:\n",
        "- Получите распределение норм разностей стох. и полного градиентов для языковой модели bert на датасете CoLA\n",
        "\n",
        "- Получите распредиление норм разностей стох. и полного градиентов на модели VGG16 для датасета CIFAR10\n",
        "\n",
        "Сравните результаты, с результатами полученными для алгоритмов Adam SGD+momentum и обоснуйте результаты исходя из материалов, полученных на лекции №8."
      ]
    },
    {
      "cell_type": "markdown",
      "metadata": {
        "id": "L2yqdkzeQJnP"
      },
      "source": []
    },
    {
      "cell_type": "markdown",
      "metadata": {
        "id": "Bj3--oa6QNCM"
      },
      "source": [
        "#### Предобработка данных\n",
        "\n",
        "Загрузим датасет из семинара и проведем его предобработку "
      ]
    },
    {
      "cell_type": "code",
      "execution_count": null,
      "metadata": {
        "colab": {
          "base_uri": "https://localhost:8080/"
        },
        "id": "Y5PPNtJRRzzZ",
        "outputId": "29017cbe-9ed0-459e-e068-59615880230d"
      },
      "outputs": [
        {
          "output_type": "stream",
          "name": "stdout",
          "text": [
            "Looking in indexes: https://pypi.org/simple, https://us-python.pkg.dev/colab-wheels/public/simple/\n",
            "Requirement already satisfied: wget in /usr/local/lib/python3.10/dist-packages (3.2)\n",
            "Downloading dataset\n"
          ]
        }
      ],
      "source": [
        "# Unzip the dataset (if we haven't already)\n",
        "!pip install wget\n",
        "import wget\n",
        "import os\n",
        "print('Downloading dataset')\n",
        "# The URL for the dataset zip file.\n",
        "url = 'https://nyu-mll.github.io/CoLA/cola_public_1.1.zip'\n",
        "# Download the file (if we haven't already)\n",
        "if not os.path.exists('./cola_public_1.1.zip'):\n",
        "  wget.download(url, './cola_public_1.1.zip')\n",
        "  if not os.path.exists('./cola_public/'):\n",
        "    !unzip cola_public_1.1.zip"
      ]
    },
    {
      "cell_type": "code",
      "execution_count": null,
      "metadata": {
        "colab": {
          "base_uri": "https://localhost:8080/",
          "height": 423
        },
        "id": "xE9fibOyQecP",
        "outputId": "15e99a4e-9662-4875-8872-4e77b4ab8e00"
      },
      "outputs": [
        {
          "output_type": "execute_result",
          "data": {
            "text/plain": [
              "     sentence_source  label label_notes  \\\n",
              "0               gj04      1         NaN   \n",
              "1               gj04      1         NaN   \n",
              "2               gj04      1         NaN   \n",
              "3               gj04      1         NaN   \n",
              "4               gj04      1         NaN   \n",
              "...              ...    ...         ...   \n",
              "8546            ad03      0           *   \n",
              "8547            ad03      0           *   \n",
              "8548            ad03      1         NaN   \n",
              "8549            ad03      1         NaN   \n",
              "8550            ad03      1         NaN   \n",
              "\n",
              "                                               sentence  \n",
              "0     Our friends won't buy this analysis, let alone...  \n",
              "1     One more pseudo generalization and I'm giving up.  \n",
              "2      One more pseudo generalization or I'm giving up.  \n",
              "3        The more we study verbs, the crazier they get.  \n",
              "4             Day by day the facts are getting murkier.  \n",
              "...                                                 ...  \n",
              "8546                   Poseidon appears to own a dragon  \n",
              "8547                     Digitize is my happiest memory  \n",
              "8548                     It is easy to slay the Gorgon.  \n",
              "8549       I had the strangest feeling that I knew you.  \n",
              "8550                What all did you get for Christmas?  \n",
              "\n",
              "[8551 rows x 4 columns]"
            ],
            "text/html": [
              "\n",
              "  <div id=\"df-76a5fe2f-c022-46d4-b437-38b6109f2c7a\">\n",
              "    <div class=\"colab-df-container\">\n",
              "      <div>\n",
              "<style scoped>\n",
              "    .dataframe tbody tr th:only-of-type {\n",
              "        vertical-align: middle;\n",
              "    }\n",
              "\n",
              "    .dataframe tbody tr th {\n",
              "        vertical-align: top;\n",
              "    }\n",
              "\n",
              "    .dataframe thead th {\n",
              "        text-align: right;\n",
              "    }\n",
              "</style>\n",
              "<table border=\"1\" class=\"dataframe\">\n",
              "  <thead>\n",
              "    <tr style=\"text-align: right;\">\n",
              "      <th></th>\n",
              "      <th>sentence_source</th>\n",
              "      <th>label</th>\n",
              "      <th>label_notes</th>\n",
              "      <th>sentence</th>\n",
              "    </tr>\n",
              "  </thead>\n",
              "  <tbody>\n",
              "    <tr>\n",
              "      <th>0</th>\n",
              "      <td>gj04</td>\n",
              "      <td>1</td>\n",
              "      <td>NaN</td>\n",
              "      <td>Our friends won't buy this analysis, let alone...</td>\n",
              "    </tr>\n",
              "    <tr>\n",
              "      <th>1</th>\n",
              "      <td>gj04</td>\n",
              "      <td>1</td>\n",
              "      <td>NaN</td>\n",
              "      <td>One more pseudo generalization and I'm giving up.</td>\n",
              "    </tr>\n",
              "    <tr>\n",
              "      <th>2</th>\n",
              "      <td>gj04</td>\n",
              "      <td>1</td>\n",
              "      <td>NaN</td>\n",
              "      <td>One more pseudo generalization or I'm giving up.</td>\n",
              "    </tr>\n",
              "    <tr>\n",
              "      <th>3</th>\n",
              "      <td>gj04</td>\n",
              "      <td>1</td>\n",
              "      <td>NaN</td>\n",
              "      <td>The more we study verbs, the crazier they get.</td>\n",
              "    </tr>\n",
              "    <tr>\n",
              "      <th>4</th>\n",
              "      <td>gj04</td>\n",
              "      <td>1</td>\n",
              "      <td>NaN</td>\n",
              "      <td>Day by day the facts are getting murkier.</td>\n",
              "    </tr>\n",
              "    <tr>\n",
              "      <th>...</th>\n",
              "      <td>...</td>\n",
              "      <td>...</td>\n",
              "      <td>...</td>\n",
              "      <td>...</td>\n",
              "    </tr>\n",
              "    <tr>\n",
              "      <th>8546</th>\n",
              "      <td>ad03</td>\n",
              "      <td>0</td>\n",
              "      <td>*</td>\n",
              "      <td>Poseidon appears to own a dragon</td>\n",
              "    </tr>\n",
              "    <tr>\n",
              "      <th>8547</th>\n",
              "      <td>ad03</td>\n",
              "      <td>0</td>\n",
              "      <td>*</td>\n",
              "      <td>Digitize is my happiest memory</td>\n",
              "    </tr>\n",
              "    <tr>\n",
              "      <th>8548</th>\n",
              "      <td>ad03</td>\n",
              "      <td>1</td>\n",
              "      <td>NaN</td>\n",
              "      <td>It is easy to slay the Gorgon.</td>\n",
              "    </tr>\n",
              "    <tr>\n",
              "      <th>8549</th>\n",
              "      <td>ad03</td>\n",
              "      <td>1</td>\n",
              "      <td>NaN</td>\n",
              "      <td>I had the strangest feeling that I knew you.</td>\n",
              "    </tr>\n",
              "    <tr>\n",
              "      <th>8550</th>\n",
              "      <td>ad03</td>\n",
              "      <td>1</td>\n",
              "      <td>NaN</td>\n",
              "      <td>What all did you get for Christmas?</td>\n",
              "    </tr>\n",
              "  </tbody>\n",
              "</table>\n",
              "<p>8551 rows × 4 columns</p>\n",
              "</div>\n",
              "      <button class=\"colab-df-convert\" onclick=\"convertToInteractive('df-76a5fe2f-c022-46d4-b437-38b6109f2c7a')\"\n",
              "              title=\"Convert this dataframe to an interactive table.\"\n",
              "              style=\"display:none;\">\n",
              "        \n",
              "  <svg xmlns=\"http://www.w3.org/2000/svg\" height=\"24px\"viewBox=\"0 0 24 24\"\n",
              "       width=\"24px\">\n",
              "    <path d=\"M0 0h24v24H0V0z\" fill=\"none\"/>\n",
              "    <path d=\"M18.56 5.44l.94 2.06.94-2.06 2.06-.94-2.06-.94-.94-2.06-.94 2.06-2.06.94zm-11 1L8.5 8.5l.94-2.06 2.06-.94-2.06-.94L8.5 2.5l-.94 2.06-2.06.94zm10 10l.94 2.06.94-2.06 2.06-.94-2.06-.94-.94-2.06-.94 2.06-2.06.94z\"/><path d=\"M17.41 7.96l-1.37-1.37c-.4-.4-.92-.59-1.43-.59-.52 0-1.04.2-1.43.59L10.3 9.45l-7.72 7.72c-.78.78-.78 2.05 0 2.83L4 21.41c.39.39.9.59 1.41.59.51 0 1.02-.2 1.41-.59l7.78-7.78 2.81-2.81c.8-.78.8-2.07 0-2.86zM5.41 20L4 18.59l7.72-7.72 1.47 1.35L5.41 20z\"/>\n",
              "  </svg>\n",
              "      </button>\n",
              "      \n",
              "  <style>\n",
              "    .colab-df-container {\n",
              "      display:flex;\n",
              "      flex-wrap:wrap;\n",
              "      gap: 12px;\n",
              "    }\n",
              "\n",
              "    .colab-df-convert {\n",
              "      background-color: #E8F0FE;\n",
              "      border: none;\n",
              "      border-radius: 50%;\n",
              "      cursor: pointer;\n",
              "      display: none;\n",
              "      fill: #1967D2;\n",
              "      height: 32px;\n",
              "      padding: 0 0 0 0;\n",
              "      width: 32px;\n",
              "    }\n",
              "\n",
              "    .colab-df-convert:hover {\n",
              "      background-color: #E2EBFA;\n",
              "      box-shadow: 0px 1px 2px rgba(60, 64, 67, 0.3), 0px 1px 3px 1px rgba(60, 64, 67, 0.15);\n",
              "      fill: #174EA6;\n",
              "    }\n",
              "\n",
              "    [theme=dark] .colab-df-convert {\n",
              "      background-color: #3B4455;\n",
              "      fill: #D2E3FC;\n",
              "    }\n",
              "\n",
              "    [theme=dark] .colab-df-convert:hover {\n",
              "      background-color: #434B5C;\n",
              "      box-shadow: 0px 1px 3px 1px rgba(0, 0, 0, 0.15);\n",
              "      filter: drop-shadow(0px 1px 2px rgba(0, 0, 0, 0.3));\n",
              "      fill: #FFFFFF;\n",
              "    }\n",
              "  </style>\n",
              "\n",
              "      <script>\n",
              "        const buttonEl =\n",
              "          document.querySelector('#df-76a5fe2f-c022-46d4-b437-38b6109f2c7a button.colab-df-convert');\n",
              "        buttonEl.style.display =\n",
              "          google.colab.kernel.accessAllowed ? 'block' : 'none';\n",
              "\n",
              "        async function convertToInteractive(key) {\n",
              "          const element = document.querySelector('#df-76a5fe2f-c022-46d4-b437-38b6109f2c7a');\n",
              "          const dataTable =\n",
              "            await google.colab.kernel.invokeFunction('convertToInteractive',\n",
              "                                                     [key], {});\n",
              "          if (!dataTable) return;\n",
              "\n",
              "          const docLinkHtml = 'Like what you see? Visit the ' +\n",
              "            '<a target=\"_blank\" href=https://colab.research.google.com/notebooks/data_table.ipynb>data table notebook</a>'\n",
              "            + ' to learn more about interactive tables.';\n",
              "          element.innerHTML = '';\n",
              "          dataTable['output_type'] = 'display_data';\n",
              "          await google.colab.output.renderOutput(dataTable, element);\n",
              "          const docLink = document.createElement('div');\n",
              "          docLink.innerHTML = docLinkHtml;\n",
              "          element.appendChild(docLink);\n",
              "        }\n",
              "      </script>\n",
              "    </div>\n",
              "  </div>\n",
              "  "
            ]
          },
          "metadata": {},
          "execution_count": 9
        }
      ],
      "source": [
        "import pandas as pd\n",
        "df = pd.read_csv(\"./cola_public/raw/in_domain_train.tsv\", delimiter='\\t',\n",
        "                 header=None, names=['sentence_source', 'label', 'label_notes', 'sentence'])\n",
        "df"
      ]
    },
    {
      "cell_type": "markdown",
      "metadata": {
        "id": "xaRCf8v3R90B"
      },
      "source": [
        "Поскольку в данной части задания мы будем использовать тот же самый [CoLA Dataset](https://nyu-mll.github.io/CoLA/#) и ту же самую [модель](https://huggingface.co/transformers/model_doc/bert.html#bertforsequenceclassification), проведем аналогичную предобработку"
      ]
    },
    {
      "cell_type": "code",
      "execution_count": null,
      "metadata": {
        "id": "hSxGskXeRm-o",
        "colab": {
          "base_uri": "https://localhost:8080/"
        },
        "outputId": "08bade69-78c6-4222-bb7a-99c448dcd939"
      },
      "outputs": [
        {
          "output_type": "stream",
          "name": "stdout",
          "text": [
            "Loading BERT tokenizer...\n",
            "Original:  Our friends won't buy this analysis, let alone the next one we propose.\n",
            "Token IDs: [101, 2256, 2814, 2180, 1005, 1056, 4965, 2023, 4106, 1010, 2292, 2894, 1996, 2279, 2028, 2057, 16599, 1012, 102]\n",
            "\n",
            "Padding/truncating all sentences to 48 values...\n",
            "\n",
            "Padding token: \"[PAD]\", ID: 0\n",
            "\\Done.\n",
            "There are 1 GPU(s) available.\n",
            "We will use the GPU: Tesla T4\n"
          ]
        }
      ],
      "source": [
        "print('Loading BERT tokenizer...')\n",
        "tokenizer = BertTokenizer.from_pretrained('bert-base-uncased', do_lower_case=True)\n",
        "# токенизируем предложения исходного датасета\n",
        "input_ids = []\n",
        "# For every sentence...\n",
        "for sent in df.sentence.values:\n",
        "    #   (1) токинизируем предложение.\n",
        "    #   (2) добавляем символ `[CLS]`в начало предложения.\n",
        "    #   (3) и символ `[SEP]`в конец.\n",
        "    #   (4) маркеруем все токены в их id\n",
        "    encoded_sent = tokenizer.encode(\n",
        "                        sent,                      \n",
        "                        add_special_tokens = True, # добавляем '[CLS]' и '[SEP]'\n",
        "                   )\n",
        "    \n",
        "    input_ids.append(encoded_sent)\n",
        "print('Original: ', df.sentence.values[0])\n",
        "print('Token IDs:', input_ids[0])\n",
        "\n",
        "MAX_LEN =  max([len(sen) for sen in input_ids])+1\n",
        "print('\\nPadding/truncating all sentences to %d values...' % MAX_LEN)\n",
        "print('\\nPadding token: \"{:}\", ID: {:}'.format(tokenizer.pad_token, tokenizer.pad_token_id))\n",
        "\n",
        "input_ids = pad_sequences(input_ids, maxlen=MAX_LEN, dtype=\"long\", \n",
        "                          value=0, truncating=\"post\", padding=\"post\")\n",
        "print('\\Done.')\n",
        "# создадим attantion маску для кажого предложения\n",
        "attention_masks = []\n",
        "for sent in input_ids:\n",
        "    \n",
        "    # Create the attention mask.\n",
        "    #   - если  ID =0 тогда не стоит обрабатывать данный токен в процессе обучения, поскольку это паддинг\n",
        "    #   -  если  ID >0 тогда стоит использовать данный токен, поскольку он является частью предложения\n",
        "    att_mask = [int(token_id > 0) for token_id in sent]\n",
        "    \n",
        "    attention_masks.append(att_mask)\n",
        "\n",
        "\n",
        "\n",
        "train_inputs, validation_inputs, train_labels, validation_labels = train_test_split(input_ids,df.label.values, \n",
        "                                                            random_state=2018, test_size=0.1)\n",
        "\n",
        "train_masks, validation_masks, _, _ = train_test_split(attention_masks, df.label.values,\n",
        "                                             random_state=2018, test_size=0.1)\n",
        "\n",
        "\n",
        "if torch.cuda.is_available():    \n",
        "    device = torch.device(\"cuda\")\n",
        "    print('There are %d GPU(s) available.' % torch.cuda.device_count())\n",
        "    print('We will use the GPU:', torch.cuda.get_device_name(0))\n",
        "else:\n",
        "    print('No GPU available, using the CPU instead.')\n",
        "    device = torch.device(\"cpu\")\n",
        "\n",
        "train_inputs = torch.tensor(train_inputs)\n",
        "validation_inputs = torch.tensor(validation_inputs)\n",
        "train_labels = torch.tensor(train_labels)\n",
        "validation_labels = torch.tensor(validation_labels)\n",
        "train_masks = torch.tensor(train_masks)\n",
        "validation_masks = torch.tensor(validation_masks)\n",
        "\n",
        "### даталоадер для вычисления полного градиента\n",
        "batch_size = 250#train_inputs.shape[0]\n",
        "train_data = TensorDataset(train_inputs, train_masks, train_labels)\n",
        "train_sampler = RandomSampler(train_data)\n",
        "train_dataloader_for_full_grad = DataLoader(train_data, sampler=train_sampler, batch_size=batch_size)\n",
        "\n",
        "\n",
        "### для обучения\n",
        "batch_size = 16#train_inputs.shape[0]\n",
        "train_data = TensorDataset(train_inputs, train_masks, train_labels)\n",
        "train_sampler = RandomSampler(train_data)\n",
        "train_dataloader = DataLoader(train_data, sampler=train_sampler, batch_size=batch_size)\n",
        "\n",
        "validation_data = TensorDataset(validation_inputs, validation_masks, validation_labels)\n",
        "validation_sampler = SequentialSampler(validation_data)\n",
        "validation_dataloader = DataLoader(validation_data, sampler=validation_sampler, batch_size=batch_size)\n",
        "\n"
      ]
    },
    {
      "cell_type": "code",
      "execution_count": null,
      "metadata": {
        "id": "0me_7jZXRm71",
        "colab": {
          "base_uri": "https://localhost:8080/"
        },
        "outputId": "0ac31cec-9200-47ab-c0dd-b8c689c6c55e"
      },
      "outputs": [
        {
          "output_type": "stream",
          "name": "stderr",
          "text": [
            "Some weights of the model checkpoint at bert-base-uncased were not used when initializing BertForSequenceClassification: ['cls.seq_relationship.bias', 'cls.predictions.transform.dense.bias', 'cls.predictions.transform.LayerNorm.weight', 'cls.seq_relationship.weight', 'cls.predictions.bias', 'cls.predictions.transform.dense.weight', 'cls.predictions.decoder.weight', 'cls.predictions.transform.LayerNorm.bias']\n",
            "- This IS expected if you are initializing BertForSequenceClassification from the checkpoint of a model trained on another task or with another architecture (e.g. initializing a BertForSequenceClassification model from a BertForPreTraining model).\n",
            "- This IS NOT expected if you are initializing BertForSequenceClassification from the checkpoint of a model that you expect to be exactly identical (initializing a BertForSequenceClassification model from a BertForSequenceClassification model).\n",
            "Some weights of BertForSequenceClassification were not initialized from the model checkpoint at bert-base-uncased and are newly initialized: ['classifier.weight', 'classifier.bias']\n",
            "You should probably TRAIN this model on a down-stream task to be able to use it for predictions and inference.\n"
          ]
        },
        {
          "output_type": "execute_result",
          "data": {
            "text/plain": [
              "BertForSequenceClassification(\n",
              "  (bert): BertModel(\n",
              "    (embeddings): BertEmbeddings(\n",
              "      (word_embeddings): Embedding(30522, 768, padding_idx=0)\n",
              "      (position_embeddings): Embedding(512, 768)\n",
              "      (token_type_embeddings): Embedding(2, 768)\n",
              "      (LayerNorm): LayerNorm((768,), eps=1e-12, elementwise_affine=True)\n",
              "      (dropout): Dropout(p=0.1, inplace=False)\n",
              "    )\n",
              "    (encoder): BertEncoder(\n",
              "      (layer): ModuleList(\n",
              "        (0-11): 12 x BertLayer(\n",
              "          (attention): BertAttention(\n",
              "            (self): BertSelfAttention(\n",
              "              (query): Linear(in_features=768, out_features=768, bias=True)\n",
              "              (key): Linear(in_features=768, out_features=768, bias=True)\n",
              "              (value): Linear(in_features=768, out_features=768, bias=True)\n",
              "              (dropout): Dropout(p=0.1, inplace=False)\n",
              "            )\n",
              "            (output): BertSelfOutput(\n",
              "              (dense): Linear(in_features=768, out_features=768, bias=True)\n",
              "              (LayerNorm): LayerNorm((768,), eps=1e-12, elementwise_affine=True)\n",
              "              (dropout): Dropout(p=0.1, inplace=False)\n",
              "            )\n",
              "          )\n",
              "          (intermediate): BertIntermediate(\n",
              "            (dense): Linear(in_features=768, out_features=3072, bias=True)\n",
              "            (intermediate_act_fn): GELUActivation()\n",
              "          )\n",
              "          (output): BertOutput(\n",
              "            (dense): Linear(in_features=3072, out_features=768, bias=True)\n",
              "            (LayerNorm): LayerNorm((768,), eps=1e-12, elementwise_affine=True)\n",
              "            (dropout): Dropout(p=0.1, inplace=False)\n",
              "          )\n",
              "        )\n",
              "      )\n",
              "    )\n",
              "    (pooler): BertPooler(\n",
              "      (dense): Linear(in_features=768, out_features=768, bias=True)\n",
              "      (activation): Tanh()\n",
              "    )\n",
              "  )\n",
              "  (dropout): Dropout(p=0.1, inplace=False)\n",
              "  (classifier): Linear(in_features=768, out_features=2, bias=True)\n",
              ")"
            ]
          },
          "metadata": {},
          "execution_count": 50
        }
      ],
      "source": [
        "torch.manual_seed(15)\n",
        "model = BertForSequenceClassification.from_pretrained(\n",
        "  \"bert-base-uncased\", # 12-ти слойная модель BERT с предобученными весами\n",
        "  num_labels = 2, # количество выходных хначений для бинарной классификации  \n",
        "  output_attentions = False, # true, если необходимо брать attention веса модели.\n",
        "  output_hidden_states = False, #true, если необходимо брать значения со скрытых слоёв.\n",
        ")\n",
        "# Tell pytorch to run this model on the GPU.\n",
        "model.cuda()"
      ]
    },
    {
      "cell_type": "code",
      "execution_count": null,
      "metadata": {
        "id": "59uq_rfFRm49"
      },
      "outputs": [],
      "source": [
        "optimizer = ACC(model.parameters(),\n",
        "                 lr=1e-3, \n",
        "                 betas=(0.9, 0.99), \n",
        "                 eps=1e-5,\n",
        "                 w=1e-5,\n",
        "                 alpha=2)#воспользуйтесь Вашим оптимизатором\n",
        "\n",
        "epochs = 4\n",
        "total_steps = len(train_dataloader) * epochs"
      ]
    },
    {
      "cell_type": "markdown",
      "metadata": {
        "id": "fq3yMSWg15_t"
      },
      "source": [
        "#### Эксперимент №1"
      ]
    },
    {
      "cell_type": "markdown",
      "metadata": {
        "id": "PWTa8AK5P7hT"
      },
      "source": [
        "**Функции**\n",
        "\n",
        "воспользуемся функциями из семинарского ноутбука"
      ]
    },
    {
      "cell_type": "code",
      "execution_count": null,
      "metadata": {
        "id": "yOlwS_KUP6PL"
      },
      "outputs": [],
      "source": [
        "# Function to calculate the accuracy of our predictions vs labels\n",
        "def flat_accuracy(preds, labels):\n",
        "    pred_flat = np.argmax(preds, axis=1).flatten()\n",
        "    labels_flat = labels.flatten()\n",
        "    return np.sum(pred_flat == labels_flat) / len(labels_flat)\n",
        "    \n",
        "import time\n",
        "import datetime\n",
        "def format_time(elapsed):\n",
        "    '''\n",
        "    Takes a time in seconds and returns a string hh:mm:ss\n",
        "    '''\n",
        "    # Round to the nearest second.\n",
        "    elapsed_rounded = int(round((elapsed)))\n",
        "    \n",
        "    # Format as hh:mm:ss\n",
        "    return str(datetime.timedelta(seconds=elapsed_rounded))\n",
        "def get_batch_grad(model):\n",
        "  gr=[]\n",
        "  for i in model.parameters():\n",
        "    if i.requires_grad:\n",
        "      gr.append(i.grad.view(-1))\n",
        "  return torch.cat(gr)\n",
        "def get_loss(batch,model):\n",
        "  b_input_ids = batch[0].to(device)\n",
        "  b_input_mask = batch[1].to(device)\n",
        "  b_labels = batch[2].to(device)\n",
        "  outputs = model(b_input_ids, \n",
        "                      token_type_ids=None, \n",
        "                      attention_mask=b_input_mask, \n",
        "                      labels=b_labels)\n",
        "\n",
        "  loss=outputs[0]\n",
        "  return loss\n",
        "def compute_full_grad(model):\n",
        "  fully_grad=[]\n",
        "  for step, batch in enumerate(train_dataloader_for_full_grad):\n",
        "    optimizer.zero_grad()\n",
        "\n",
        "    loss=get_loss(batch,model)\n",
        "    loss.backward()\n",
        "\n",
        "    fully_grad = fully_grad + get_batch_grad(model) * \\\n",
        "        train_dataloader_for_full_grad.batch_size if fully_grad!=[] \\\n",
        "            else get_batch_grad(model) * train_dataloader_for_full_grad.batch_size\n",
        "\n",
        "  print(\"full grad computed\")\n",
        "  return fully_grad / (step * train_dataloader_for_full_grad.batch_size)\n",
        "def draw_norm_hist(norm_diffs):\n",
        "  bins_n=500\n",
        "  counts, bins=np.histogram(norm_diffs,bins_n)\n",
        "  mu = np.mean(norm_diffs)\n",
        "  sigma = np.sqrt(np.mean((norm_diffs - mu)**2))\n",
        "  temp2 = np.linspace(0, bins[-1], bins_n)\n",
        "  plt.semilogy(temp2, scipy.stats.norm.pdf(temp2, mu, sigma), linewidth=2, color='red', marker='d',\n",
        "            markersize = 15, \n",
        "            markevery=range(0, bins_n, 100))\n",
        "  plt.hist(bins[:-1], bins, weights=counts)\n",
        "  plt.yscale('log')\n",
        "  plt.show()\n",
        "\n",
        "def compute_norm_diffs(model):\n",
        "  full_grad=compute_full_grad(model)\n",
        "  mini_norms=[]\n",
        "  for step, batch in enumerate(train_dataloader):\n",
        "    optimizer.zero_grad()\n",
        "    loss=get_loss(batch,model)\n",
        "    loss.backward()\n",
        "    mini_norms.append((get_batch_grad(model)-full_grad).norm().item())\n",
        "  print(\"norm diffs computed\")\n",
        "\n",
        "  return np.array(mini_norms)\n",
        "\n",
        "def training_and_drawing(model,n_epochs,optimizer):\n",
        "  norm_diffs_every_epoch=[]\n",
        "  for i in tqdm.tqdm(range(n_epochs)):\n",
        "    model.eval()\n",
        "    norm_diffs_every_epoch.append(compute_norm_diffs(model))\n",
        "    if i:\n",
        "      draw_norm_hist(norm_diffs_every_epoch[-1])\n",
        "    else:\n",
        "      draw_norm_hist(norm_diffs_every_epoch)\n",
        "    print(\"start_training\")\n",
        "    model.train()\n",
        "    for step, batch in enumerate(train_dataloader):\n",
        "      optimizer.zero_grad()\n",
        "      loss=get_loss(batch,model)\n",
        "      loss.backward()\n",
        "      optimizer.step()\n",
        "  validation(model)\n",
        "  return norm_diffs_every_epoch\n",
        "\n",
        "def get_accuracy(model,batch):\n",
        "  b_input_ids = batch[0].to(device)\n",
        "  b_input_mask = batch[1].to(device)\n",
        "  b_labels = batch[2].to(device)\n",
        "  with torch.no_grad():\n",
        "    outputs = model(b_input_ids, \n",
        "                      token_type_ids=None, \n",
        "                      attention_mask=b_input_mask, \n",
        "                      labels=b_labels)\n",
        "  # print(outputs.logits)\n",
        "  logits = outputs.logits.detach().cpu().numpy()\n",
        "  label_ids = b_labels.to('cpu').numpy()\n",
        "        \n",
        "        # Calculate the accuracy for this batch of test sentences.\n",
        "\n",
        "\n",
        "  return flat_accuracy(logits, label_ids)\n",
        "def flat_accuracy(preds, labels):\n",
        "  # print(preds.shape())\n",
        "  pred_flat = np.argmax(preds, axis=1).flatten()\n",
        "  labels_flat = labels.flatten()\n",
        "  return np.sum(pred_flat == labels_flat) / len(labels_flat), matthews_corrcoef(labels_flat, pred_flat)                \n",
        "def validation(model):\n",
        "  print(\"Running Validation...\")\n",
        "  matthews_set=[]\n",
        "  model.eval()\n",
        "  eval_loss, eval_accuracy = 0, 0\n",
        "  nb_eval_steps, nb_eval_examples = 0, 0\n",
        "    # Evaluate data for one epoch\n",
        "  for batch in validation_dataloader:\n",
        "    tmp_eval_accuracy,matthew = get_accuracy(model,batch)\n",
        "    matthews_set.append(matthew)\n",
        "    eval_accuracy += tmp_eval_accuracy\n",
        "    nb_eval_steps += 1\n",
        "    # Report the final accuracy for this validation run.\n",
        "\n",
        "  print(\"  Accuracy: {0:.2f}\".format(eval_accuracy/nb_eval_steps) )\n",
        "  print(\" matthews_corrcoef_metric: {0:.2f}\".format(np.mean(matthews_set)))"
      ]
    },
    {
      "cell_type": "code",
      "execution_count": null,
      "metadata": {
        "id": "vazLf3eYfHwI",
        "colab": {
          "base_uri": "https://localhost:8080/",
          "height": 1000
        },
        "outputId": "7df2e7a1-1fbc-44d4-e6d6-ab6702bd360f"
      },
      "outputs": [
        {
          "output_type": "stream",
          "name": "stderr",
          "text": [
            "\r  0%|          | 0/4 [00:00<?, ?it/s]"
          ]
        },
        {
          "output_type": "stream",
          "name": "stdout",
          "text": [
            "full grad computed\n",
            "norm diffs computed\n"
          ]
        },
        {
          "output_type": "display_data",
          "data": {
            "text/plain": [
              "<Figure size 640x480 with 1 Axes>"
            ],
            "image/png": "[encoded data removed]"
          },
          "metadata": {}
        },
        {
          "output_type": "stream",
          "name": "stdout",
          "text": [
            "start_training\n"
          ]
        },
        {
          "output_type": "stream",
          "name": "stderr",
          "text": [
            "\r 25%|██▌       | 1/4 [03:14<09:43, 194.34s/it]"
          ]
        },
        {
          "output_type": "stream",
          "name": "stdout",
          "text": [
            "full grad computed\n",
            "norm diffs computed\n"
          ]
        },
        {
          "output_type": "display_data",
          "data": {
            "text/plain": [
              "<Figure size 640x480 with 1 Axes>"
            ],
            "image/png": "[encoded data removed]"
          },
          "metadata": {}
        },
        {
          "output_type": "stream",
          "name": "stdout",
          "text": [
            "start_training\n"
          ]
        },
        {
          "output_type": "stream",
          "name": "stderr",
          "text": [
            "\r 50%|█████     | 2/4 [06:28<06:28, 194.48s/it]"
          ]
        },
        {
          "output_type": "stream",
          "name": "stdout",
          "text": [
            "full grad computed\n",
            "norm diffs computed\n"
          ]
        },
        {
          "output_type": "display_data",
          "data": {
            "text/plain": [
              "<Figure size 640x480 with 1 Axes>"
            ],
            "image/png": "[encoded data removed]"
          },
          "metadata": {}
        },
        {
          "output_type": "stream",
          "name": "stdout",
          "text": [
            "start_training\n"
          ]
        },
        {
          "output_type": "stream",
          "name": "stderr",
          "text": [
            "\r 75%|███████▌  | 3/4 [09:43<03:14, 194.30s/it]"
          ]
        },
        {
          "output_type": "stream",
          "name": "stdout",
          "text": [
            "full grad computed\n",
            "norm diffs computed\n"
          ]
        },
        {
          "output_type": "display_data",
          "data": {
            "text/plain": [
              "<Figure size 640x480 with 1 Axes>"
            ],
            "image/png": "[encoded data removed]"
          },
          "metadata": {}
        },
        {
          "output_type": "stream",
          "name": "stdout",
          "text": [
            "start_training\n"
          ]
        },
        {
          "output_type": "stream",
          "name": "stderr",
          "text": [
            "100%|██████████| 4/4 [12:57<00:00, 194.33s/it]\n"
          ]
        },
        {
          "output_type": "stream",
          "name": "stdout",
          "text": [
            "Running Validation...\n",
            "  Accuracy: 0.69\n",
            " matthews_corrcoef_metric: -0.00\n"
          ]
        }
      ],
      "source": [
        "norm_diffs_every_epoch_ACC=training_and_drawing(model,epochs,optimizer)"
      ]
    },
    {
      "cell_type": "code",
      "source": [
        "plt.hist(norm_diffs_every_epoch_ACC[0])"
      ],
      "metadata": {
        "colab": {
          "base_uri": "https://localhost:8080/",
          "height": 521
        },
        "id": "5el8_l_k5fP5",
        "outputId": "de4d5f3f-0de8-44b7-ce1e-7dde5bbaed88"
      },
      "execution_count": null,
      "outputs": [
        {
          "output_type": "execute_result",
          "data": {
            "text/plain": [
              "(array([193., 147.,  80.,  37.,  13.,   8.,   1.,   0.,   0.,   2.]),\n",
              " array([ 1.95466757,  3.06385026,  4.17303295,  5.28221564,  6.39139833,\n",
              "         7.50058103,  8.60976372,  9.71894641, 10.8281291 , 11.93731179,\n",
              "        13.04649448]),\n",
              " <BarContainer object of 10 artists>)"
            ]
          },
          "metadata": {},
          "execution_count": 23
        },
        {
          "output_type": "display_data",
          "data": {
            "text/plain": [
              "<Figure size 640x480 with 1 Axes>"
            ],
            "image/png": "[encoded data removed]"
          },
          "metadata": {}
        }
      ]
    },
    {
      "cell_type": "code",
      "source": [
        "plt.hist(norm_diffs_every_epoch_ACC[-1])"
      ],
      "metadata": {
        "colab": {
          "base_uri": "https://localhost:8080/",
          "height": 521
        },
        "id": "14Yd0h6Ot8Bj",
        "outputId": "c05c6e50-f2af-4605-8f70-27fc722fcd33"
      },
      "execution_count": null,
      "outputs": [
        {
          "output_type": "execute_result",
          "data": {
            "text/plain": [
              "(array([ 86., 112., 109.,  40.,  66.,  13.,  34.,   5.,  10.,   6.]),\n",
              " array([1.41934884, 2.05229732, 2.6852458 , 3.31819428, 3.95114276,\n",
              "        4.58409125, 5.21703973, 5.84998821, 6.48293669, 7.11588517,\n",
              "        7.74883366]),\n",
              " <BarContainer object of 10 artists>)"
            ]
          },
          "metadata": {},
          "execution_count": 19
        },
        {
          "output_type": "display_data",
          "data": {
            "text/plain": [
              "<Figure size 640x480 with 1 Axes>"
            ],
            "image/png": "[encoded data removed]"
          },
          "metadata": {}
        }
      ]
    },
    {
      "cell_type": "code",
      "source": [
        "from torch.optim import Adam\n",
        "del model\n",
        "torch.manual_seed(15)\n",
        "model2 = BertForSequenceClassification.from_pretrained(\n",
        "  \"bert-base-uncased\", # 12-ти слойная модель BERT с предобученными весами\n",
        "  num_labels = 2, # количество выходных хначений для бинарной классификации  \n",
        "  output_attentions = False, # true, если необходимо брать attention веса модели.\n",
        "  output_hidden_states = False, #true, если необходимо брать значения со скрытых слоёв.\n",
        ")\n",
        "# Tell pytorch to run this model on the GPU.\n",
        "model2.cuda()\n",
        "\n",
        "optimizer_adam = Adam(model2.parameters())\n",
        "norm_diffs_every_epoch_Adam=training_and_drawing(model2,epochs,optimizer_adam)\n"
      ],
      "metadata": {
        "colab": {
          "base_uri": "https://localhost:8080/",
          "height": 1000
        },
        "id": "Lwsgjzz13OR7",
        "outputId": "a246d882-ff94-4640-a2a7-008540230d71"
      },
      "execution_count": null,
      "outputs": [
        {
          "output_type": "stream",
          "name": "stderr",
          "text": [
            "Some weights of the model checkpoint at bert-base-uncased were not used when initializing BertForSequenceClassification: ['cls.seq_relationship.bias', 'cls.predictions.transform.dense.bias', 'cls.predictions.transform.LayerNorm.weight', 'cls.seq_relationship.weight', 'cls.predictions.bias', 'cls.predictions.transform.dense.weight', 'cls.predictions.decoder.weight', 'cls.predictions.transform.LayerNorm.bias']\n",
            "- This IS expected if you are initializing BertForSequenceClassification from the checkpoint of a model trained on another task or with another architecture (e.g. initializing a BertForSequenceClassification model from a BertForPreTraining model).\n",
            "- This IS NOT expected if you are initializing BertForSequenceClassification from the checkpoint of a model that you expect to be exactly identical (initializing a BertForSequenceClassification model from a BertForSequenceClassification model).\n",
            "Some weights of BertForSequenceClassification were not initialized from the model checkpoint at bert-base-uncased and are newly initialized: ['classifier.weight', 'classifier.bias']\n",
            "You should probably TRAIN this model on a down-stream task to be able to use it for predictions and inference.\n",
            "  0%|          | 0/4 [00:00<?, ?it/s]"
          ]
        },
        {
          "output_type": "stream",
          "name": "stdout",
          "text": [
            "full grad computed\n",
            "norm diffs computed\n"
          ]
        },
        {
          "output_type": "display_data",
          "data": {
            "text/plain": [
              "<Figure size 640x480 with 1 Axes>"
            ],
            "image/png": "[encoded data removed]"
          },
          "metadata": {}
        },
        {
          "output_type": "stream",
          "name": "stdout",
          "text": [
            "start_training\n"
          ]
        },
        {
          "output_type": "stream",
          "name": "stderr",
          "text": [
            "\r 25%|██▌       | 1/4 [03:04<09:12, 184.14s/it]"
          ]
        },
        {
          "output_type": "stream",
          "name": "stdout",
          "text": [
            "full grad computed\n",
            "norm diffs computed\n"
          ]
        },
        {
          "output_type": "display_data",
          "data": {
            "text/plain": [
              "<Figure size 640x480 with 1 Axes>"
            ],
            "image/png": "[encoded data removed]"
          },
          "metadata": {}
        },
        {
          "output_type": "stream",
          "name": "stdout",
          "text": [
            "start_training\n"
          ]
        },
        {
          "output_type": "stream",
          "name": "stderr",
          "text": [
            "\r 50%|█████     | 2/4 [06:07<06:07, 183.56s/it]"
          ]
        },
        {
          "output_type": "stream",
          "name": "stdout",
          "text": [
            "full grad computed\n",
            "norm diffs computed\n"
          ]
        },
        {
          "output_type": "display_data",
          "data": {
            "text/plain": [
              "<Figure size 640x480 with 1 Axes>"
            ],
            "image/png": "[encoded data removed]"
          },
          "metadata": {}
        },
        {
          "output_type": "stream",
          "name": "stdout",
          "text": [
            "start_training\n"
          ]
        },
        {
          "output_type": "stream",
          "name": "stderr",
          "text": [
            "\r 75%|███████▌  | 3/4 [09:06<03:01, 181.66s/it]"
          ]
        },
        {
          "output_type": "stream",
          "name": "stdout",
          "text": [
            "full grad computed\n",
            "norm diffs computed\n"
          ]
        },
        {
          "output_type": "display_data",
          "data": {
            "text/plain": [
              "<Figure size 640x480 with 1 Axes>"
            ],
            "image/png": "[encoded data removed]"
          },
          "metadata": {}
        },
        {
          "output_type": "stream",
          "name": "stdout",
          "text": [
            "start_training\n"
          ]
        },
        {
          "output_type": "stream",
          "name": "stderr",
          "text": [
            "100%|██████████| 4/4 [12:05<00:00, 181.50s/it]\n"
          ]
        },
        {
          "output_type": "stream",
          "name": "stdout",
          "text": [
            "Running Validation...\n",
            "  Accuracy: 0.69\n",
            " matthews_corrcoef_metric: 0.00\n"
          ]
        }
      ]
    },
    {
      "cell_type": "code",
      "source": [
        "plt.hist(norm_diffs_every_epoch_Adam[0])"
      ],
      "metadata": {
        "colab": {
          "base_uri": "https://localhost:8080/",
          "height": 521
        },
        "id": "jEIqzlFO5k7S",
        "outputId": "f21c291c-74c8-4214-f599-3bab523750ea"
      },
      "execution_count": null,
      "outputs": [
        {
          "output_type": "execute_result",
          "data": {
            "text/plain": [
              "(array([44., 49., 46., 45., 50., 52., 48., 47., 51., 49.]),\n",
              " array([ 119.16682434,  502.05702667,  884.947229  , 1267.83743134,\n",
              "        1650.72763367, 2033.617836  , 2416.50803833, 2799.39824066,\n",
              "        3182.28844299, 3565.17864532, 3948.06884766]),\n",
              " <BarContainer object of 10 artists>)"
            ]
          },
          "metadata": {},
          "execution_count": 53
        },
        {
          "output_type": "display_data",
          "data": {
            "text/plain": [
              "<Figure size 640x480 with 1 Axes>"
            ],
            "image/png": "[encoded data removed]"
          },
          "metadata": {}
        }
      ]
    },
    {
      "cell_type": "code",
      "source": [
        "plt.hist(norm_diffs_every_epoch_Adam[-1])"
      ],
      "metadata": {
        "colab": {
          "base_uri": "https://localhost:8080/",
          "height": 521
        },
        "id": "Uty1NU2z2dBr",
        "outputId": "4e9ced1b-3468-422e-dfef-ed6d0e43e22f"
      },
      "execution_count": null,
      "outputs": [
        {
          "output_type": "execute_result",
          "data": {
            "text/plain": [
              "(array([41., 46., 63., 45., 28., 39., 56., 49., 66., 48.]),\n",
              " array([  49.28143692,  198.32594948,  347.37046204,  496.41497459,\n",
              "         645.45948715,  794.50399971,  943.54851227, 1092.59302483,\n",
              "        1241.63753738, 1390.68204994, 1539.7265625 ]),\n",
              " <BarContainer object of 10 artists>)"
            ]
          },
          "metadata": {},
          "execution_count": 54
        },
        {
          "output_type": "display_data",
          "data": {
            "text/plain": [
              "<Figure size 640x480 with 1 Axes>"
            ],
            "image/png": "[encoded data removed]"
          },
          "metadata": {}
        }
      ]
    },
    {
      "cell_type": "markdown",
      "source": [
        "В задачах распределение отклонения градиента от субградиента далеко от нормального, скоре является равномерным на большом диапазоне. Интерпретируя такое поведение, как \"большой хвост\" шума в стох.градиенте, предпочтительнее использовать метод Adam."
      ],
      "metadata": {
        "id": "3gb1WaSD9pQy"
      }
    },
    {
      "cell_type": "markdown",
      "metadata": {
        "id": "H-rctCPqqCKa"
      },
      "source": [
        "#### Эксперимент №2 \n",
        "Сделаем аналогичный эксперимент для изображений\n"
      ]
    },
    {
      "cell_type": "code",
      "execution_count": null,
      "metadata": {
        "colab": {
          "base_uri": "https://localhost:8080/"
        },
        "id": "c-7DYgW8qSsG",
        "outputId": "06870b5a-edf6-42bf-f4da-92d9a371e013"
      },
      "outputs": [
        {
          "output_type": "stream",
          "name": "stdout",
          "text": [
            "Files already downloaded and verified\n",
            "Files already downloaded and verified\n",
            "Files already downloaded and verified\n"
          ]
        }
      ],
      "source": [
        "transform = transforms.Compose(\n",
        "    [transforms.ToTensor(),\n",
        "     transforms.Normalize((0.5, 0.5, 0.5), (0.5, 0.5, 0.5))])\n",
        "BS=32\n",
        "trainset = torchvision.datasets.CIFAR10(root='./data', train=True,\n",
        "                                        download=True, transform=transform)\n",
        "train_dataloader = torch.utils.data.DataLoader(trainset, batch_size=BS,\n",
        "                                          shuffle=True, num_workers=2)\n",
        "valset = torchvision.datasets.CIFAR10(root='./data', train=False,\n",
        "                                        download=True, transform=transform)\n",
        "validation_dataloader = torch.utils.data.DataLoader(valset, batch_size=BS,\n",
        "                                          shuffle=True, num_workers=2)\n",
        "\n",
        "testset = torchvision.datasets.CIFAR10(root='./data', train=False,\n",
        "                                       download=True, transform=transform)\n",
        "testloader = torch.utils.data.DataLoader(testset, batch_size=4,\n",
        "                                         shuffle=False, num_workers=2)\n",
        "BS=1024\n",
        "train_dataloader_for_full_grad = torch.utils.data.DataLoader(trainset, batch_size=BS,\n",
        "                                          shuffle=True, num_workers=2)\n",
        "classes = ('plane', 'car', 'bird', 'cat',\n",
        "           'deer', 'dog', 'frog', 'horse', 'ship', 'truck')"
      ]
    },
    {
      "cell_type": "code",
      "execution_count": null,
      "metadata": {
        "id": "EXAzG3o2rDxj"
      },
      "outputs": [],
      "source": [
        "del model#, model2\n",
        "model=torchvision.models.vgg16(pretrained=True)\n",
        "model.requires_grad_(False)\n",
        "import random\n",
        "\n",
        "model.classifier[6]=torch.nn.Linear(4096,10)\n",
        "device=torch.device(\"cuda:0\") if torch.cuda.is_available() else torch.device(\"cpu\")\n",
        "model=model.to(device)"
      ]
    },
    {
      "cell_type": "code",
      "execution_count": null,
      "metadata": {
        "id": "6xcufG7zrXE5",
        "colab": {
          "base_uri": "https://localhost:8080/"
        },
        "outputId": "df765015-085d-48d9-db75-674bf6b4deea"
      },
      "outputs": [
        {
          "output_type": "execute_result",
          "data": {
            "text/plain": [
              "VGG(\n",
              "  (features): Sequential(\n",
              "    (0): Conv2d(3, 64, kernel_size=(3, 3), stride=(1, 1), padding=(1, 1))\n",
              "    (1): ReLU(inplace=True)\n",
              "    (2): Conv2d(64, 64, kernel_size=(3, 3), stride=(1, 1), padding=(1, 1))\n",
              "    (3): ReLU(inplace=True)\n",
              "    (4): MaxPool2d(kernel_size=2, stride=2, padding=0, dilation=1, ceil_mode=False)\n",
              "    (5): Conv2d(64, 128, kernel_size=(3, 3), stride=(1, 1), padding=(1, 1))\n",
              "    (6): ReLU(inplace=True)\n",
              "    (7): Conv2d(128, 128, kernel_size=(3, 3), stride=(1, 1), padding=(1, 1))\n",
              "    (8): ReLU(inplace=True)\n",
              "    (9): MaxPool2d(kernel_size=2, stride=2, padding=0, dilation=1, ceil_mode=False)\n",
              "    (10): Conv2d(128, 256, kernel_size=(3, 3), stride=(1, 1), padding=(1, 1))\n",
              "    (11): ReLU(inplace=True)\n",
              "    (12): Conv2d(256, 256, kernel_size=(3, 3), stride=(1, 1), padding=(1, 1))\n",
              "    (13): ReLU(inplace=True)\n",
              "    (14): Conv2d(256, 256, kernel_size=(3, 3), stride=(1, 1), padding=(1, 1))\n",
              "    (15): ReLU(inplace=True)\n",
              "    (16): MaxPool2d(kernel_size=2, stride=2, padding=0, dilation=1, ceil_mode=False)\n",
              "    (17): Conv2d(256, 512, kernel_size=(3, 3), stride=(1, 1), padding=(1, 1))\n",
              "    (18): ReLU(inplace=True)\n",
              "    (19): Conv2d(512, 512, kernel_size=(3, 3), stride=(1, 1), padding=(1, 1))\n",
              "    (20): ReLU(inplace=True)\n",
              "    (21): Conv2d(512, 512, kernel_size=(3, 3), stride=(1, 1), padding=(1, 1))\n",
              "    (22): ReLU(inplace=True)\n",
              "    (23): MaxPool2d(kernel_size=2, stride=2, padding=0, dilation=1, ceil_mode=False)\n",
              "    (24): Conv2d(512, 512, kernel_size=(3, 3), stride=(1, 1), padding=(1, 1))\n",
              "    (25): ReLU(inplace=True)\n",
              "    (26): Conv2d(512, 512, kernel_size=(3, 3), stride=(1, 1), padding=(1, 1))\n",
              "    (27): ReLU(inplace=True)\n",
              "    (28): Conv2d(512, 512, kernel_size=(3, 3), stride=(1, 1), padding=(1, 1))\n",
              "    (29): ReLU(inplace=True)\n",
              "    (30): MaxPool2d(kernel_size=2, stride=2, padding=0, dilation=1, ceil_mode=False)\n",
              "  )\n",
              "  (avgpool): AdaptiveAvgPool2d(output_size=(7, 7))\n",
              "  (classifier): Sequential(\n",
              "    (0): Linear(in_features=25088, out_features=4096, bias=True)\n",
              "    (1): ReLU(inplace=True)\n",
              "    (2): Dropout(p=0.5, inplace=False)\n",
              "    (3): Linear(in_features=4096, out_features=4096, bias=True)\n",
              "    (4): ReLU(inplace=True)\n",
              "    (5): Dropout(p=0.5, inplace=False)\n",
              "    (6): Linear(in_features=4096, out_features=10, bias=True)\n",
              "  )\n",
              ")"
            ]
          },
          "metadata": {},
          "execution_count": 22
        }
      ],
      "source": [
        "optimizer=ACC(model.parameters(),\n",
        "                 lr=1e-4, \n",
        "                 betas=(0.9, 0.99), \n",
        "                 eps=1e-5,\n",
        "                 w=1e-5,\n",
        "                 alpha=2)# ваш оптимизатор здесь\n",
        "criterion=torch.nn.CrossEntropyLoss()\n",
        "model.eval()"
      ]
    },
    {
      "cell_type": "code",
      "source": [
        "epochs = 4\n",
        "norm_diffs_every_epoch_ACC=training_and_drawing(model,epochs,optimizer)"
      ],
      "metadata": {
        "colab": {
          "base_uri": "https://localhost:8080/",
          "height": 1000
        },
        "id": "RsUZTSqs0XSo",
        "outputId": "3fa7af93-041b-4557-f826-d188dc25fded"
      },
      "execution_count": null,
      "outputs": [
        {
          "output_type": "stream",
          "name": "stderr",
          "text": [
            "\r  0%|          | 0/4 [00:00<?, ?it/s]"
          ]
        },
        {
          "output_type": "stream",
          "name": "stdout",
          "text": [
            "full grad computed\n",
            "norm diffs computed\n"
          ]
        },
        {
          "output_type": "display_data",
          "data": {
            "text/plain": [
              "<Figure size 640x480 with 1 Axes>"
            ],
            "image/png": "[encoded data removed]"
          },
          "metadata": {}
        },
        {
          "output_type": "stream",
          "name": "stdout",
          "text": [
            "start_training\n"
          ]
        },
        {
          "output_type": "stream",
          "name": "stderr",
          "text": [
            "\r 25%|██▌       | 1/4 [01:16<03:50, 76.90s/it]"
          ]
        },
        {
          "output_type": "stream",
          "name": "stdout",
          "text": [
            "full grad computed\n",
            "norm diffs computed\n"
          ]
        },
        {
          "output_type": "display_data",
          "data": {
            "text/plain": [
              "<Figure size 640x480 with 1 Axes>"
            ],
            "image/png": "[encoded data removed]"
          },
          "metadata": {}
        },
        {
          "output_type": "stream",
          "name": "stdout",
          "text": [
            "start_training\n"
          ]
        },
        {
          "output_type": "stream",
          "name": "stderr",
          "text": [
            "\r 50%|█████     | 2/4 [02:27<02:26, 73.44s/it]"
          ]
        },
        {
          "output_type": "stream",
          "name": "stdout",
          "text": [
            "full grad computed\n",
            "norm diffs computed\n"
          ]
        },
        {
          "output_type": "display_data",
          "data": {
            "text/plain": [
              "<Figure size 640x480 with 1 Axes>"
            ],
            "image/png": "[encoded data removed]"
          },
          "metadata": {}
        },
        {
          "output_type": "stream",
          "name": "stdout",
          "text": [
            "start_training\n"
          ]
        },
        {
          "output_type": "stream",
          "name": "stderr",
          "text": [
            "\r 75%|███████▌  | 3/4 [03:41<01:13, 73.56s/it]"
          ]
        },
        {
          "output_type": "stream",
          "name": "stdout",
          "text": [
            "full grad computed\n",
            "norm diffs computed\n"
          ]
        },
        {
          "output_type": "display_data",
          "data": {
            "text/plain": [
              "<Figure size 640x480 with 1 Axes>"
            ],
            "image/png": "[encoded data removed]"
          },
          "metadata": {}
        },
        {
          "output_type": "stream",
          "name": "stdout",
          "text": [
            "start_training\n"
          ]
        },
        {
          "output_type": "stream",
          "name": "stderr",
          "text": [
            "100%|██████████| 4/4 [04:53<00:00, 73.43s/it]"
          ]
        },
        {
          "output_type": "stream",
          "name": "stdout",
          "text": [
            "Running Validation...\n"
          ]
        },
        {
          "output_type": "stream",
          "name": "stderr",
          "text": [
            "\n"
          ]
        },
        {
          "output_type": "stream",
          "name": "stdout",
          "text": [
            "  Accuracy: 0.42\n"
          ]
        }
      ]
    },
    {
      "cell_type": "code",
      "source": [
        "# del model\n",
        "model3=torchvision.models.vgg16(pretrained=True)\n",
        "model3.requires_grad_(False)\n",
        "# import random\n",
        "\n",
        "model3.classifier[6]=torch.nn.Linear(4096,10)\n",
        "# device=torch.device(\"cuda:0\") if torch.cuda.is_available() else torch.device(\"cpu\")\n",
        "model3=model3.to(device)\n",
        "from torch.optim import Adam\n",
        "optimizer_adam=Adam(model3.parameters())# ваш оптимизатор здесь\n",
        "criterion=torch.nn.CrossEntropyLoss()\n",
        "model3.eval()"
      ],
      "metadata": {
        "colab": {
          "base_uri": "https://localhost:8080/"
        },
        "id": "O_C82pSt-g51",
        "outputId": "ab07e728-0a52-4050-ec18-c96f50df53d5"
      },
      "execution_count": null,
      "outputs": [
        {
          "output_type": "stream",
          "name": "stderr",
          "text": [
            "/usr/local/lib/python3.10/dist-packages/torchvision/models/_utils.py:208: UserWarning: The parameter 'pretrained' is deprecated since 0.13 and may be removed in the future, please use 'weights' instead.\n",
            "  warnings.warn(\n",
            "/usr/local/lib/python3.10/dist-packages/torchvision/models/_utils.py:223: UserWarning: Arguments other than a weight enum or `None` for 'weights' are deprecated since 0.13 and may be removed in the future. The current behavior is equivalent to passing `weights=VGG16_Weights.IMAGENET1K_V1`. You can also use `weights=VGG16_Weights.DEFAULT` to get the most up-to-date weights.\n",
            "  warnings.warn(msg)\n"
          ]
        },
        {
          "output_type": "execute_result",
          "data": {
            "text/plain": [
              "VGG(\n",
              "  (features): Sequential(\n",
              "    (0): Conv2d(3, 64, kernel_size=(3, 3), stride=(1, 1), padding=(1, 1))\n",
              "    (1): ReLU(inplace=True)\n",
              "    (2): Conv2d(64, 64, kernel_size=(3, 3), stride=(1, 1), padding=(1, 1))\n",
              "    (3): ReLU(inplace=True)\n",
              "    (4): MaxPool2d(kernel_size=2, stride=2, padding=0, dilation=1, ceil_mode=False)\n",
              "    (5): Conv2d(64, 128, kernel_size=(3, 3), stride=(1, 1), padding=(1, 1))\n",
              "    (6): ReLU(inplace=True)\n",
              "    (7): Conv2d(128, 128, kernel_size=(3, 3), stride=(1, 1), padding=(1, 1))\n",
              "    (8): ReLU(inplace=True)\n",
              "    (9): MaxPool2d(kernel_size=2, stride=2, padding=0, dilation=1, ceil_mode=False)\n",
              "    (10): Conv2d(128, 256, kernel_size=(3, 3), stride=(1, 1), padding=(1, 1))\n",
              "    (11): ReLU(inplace=True)\n",
              "    (12): Conv2d(256, 256, kernel_size=(3, 3), stride=(1, 1), padding=(1, 1))\n",
              "    (13): ReLU(inplace=True)\n",
              "    (14): Conv2d(256, 256, kernel_size=(3, 3), stride=(1, 1), padding=(1, 1))\n",
              "    (15): ReLU(inplace=True)\n",
              "    (16): MaxPool2d(kernel_size=2, stride=2, padding=0, dilation=1, ceil_mode=False)\n",
              "    (17): Conv2d(256, 512, kernel_size=(3, 3), stride=(1, 1), padding=(1, 1))\n",
              "    (18): ReLU(inplace=True)\n",
              "    (19): Conv2d(512, 512, kernel_size=(3, 3), stride=(1, 1), padding=(1, 1))\n",
              "    (20): ReLU(inplace=True)\n",
              "    (21): Conv2d(512, 512, kernel_size=(3, 3), stride=(1, 1), padding=(1, 1))\n",
              "    (22): ReLU(inplace=True)\n",
              "    (23): MaxPool2d(kernel_size=2, stride=2, padding=0, dilation=1, ceil_mode=False)\n",
              "    (24): Conv2d(512, 512, kernel_size=(3, 3), stride=(1, 1), padding=(1, 1))\n",
              "    (25): ReLU(inplace=True)\n",
              "    (26): Conv2d(512, 512, kernel_size=(3, 3), stride=(1, 1), padding=(1, 1))\n",
              "    (27): ReLU(inplace=True)\n",
              "    (28): Conv2d(512, 512, kernel_size=(3, 3), stride=(1, 1), padding=(1, 1))\n",
              "    (29): ReLU(inplace=True)\n",
              "    (30): MaxPool2d(kernel_size=2, stride=2, padding=0, dilation=1, ceil_mode=False)\n",
              "  )\n",
              "  (avgpool): AdaptiveAvgPool2d(output_size=(7, 7))\n",
              "  (classifier): Sequential(\n",
              "    (0): Linear(in_features=25088, out_features=4096, bias=True)\n",
              "    (1): ReLU(inplace=True)\n",
              "    (2): Dropout(p=0.5, inplace=False)\n",
              "    (3): Linear(in_features=4096, out_features=4096, bias=True)\n",
              "    (4): ReLU(inplace=True)\n",
              "    (5): Dropout(p=0.5, inplace=False)\n",
              "    (6): Linear(in_features=4096, out_features=10, bias=True)\n",
              "  )\n",
              ")"
            ]
          },
          "metadata": {},
          "execution_count": 29
        }
      ]
    },
    {
      "cell_type": "code",
      "source": [
        "norm_diffs_every_epoch_Adam=training_and_drawing(model3, epochs, optimizer_adam)"
      ],
      "metadata": {
        "colab": {
          "base_uri": "https://localhost:8080/",
          "height": 1000
        },
        "id": "C9UTt7feHNoU",
        "outputId": "3df0c9b7-ab42-48d9-8b5f-e6fe3f3dc3cc"
      },
      "execution_count": null,
      "outputs": [
        {
          "output_type": "stream",
          "name": "stderr",
          "text": [
            "\r  0%|          | 0/4 [00:00<?, ?it/s]"
          ]
        },
        {
          "output_type": "stream",
          "name": "stdout",
          "text": [
            "full grad computed\n",
            "norm diffs computed\n"
          ]
        },
        {
          "output_type": "display_data",
          "data": {
            "text/plain": [
              "<Figure size 640x480 with 1 Axes>"
            ],
            "image/png": "[encoded data removed]"
          },
          "metadata": {}
        },
        {
          "output_type": "stream",
          "name": "stdout",
          "text": [
            "start_training\n"
          ]
        },
        {
          "output_type": "stream",
          "name": "stderr",
          "text": [
            "\r 25%|██▌       | 1/4 [01:31<04:35, 91.91s/it]"
          ]
        },
        {
          "output_type": "stream",
          "name": "stdout",
          "text": [
            "full grad computed\n",
            "norm diffs computed\n"
          ]
        },
        {
          "output_type": "display_data",
          "data": {
            "text/plain": [
              "<Figure size 640x480 with 1 Axes>"
            ],
            "image/png": "[encoded data removed]"
          },
          "metadata": {}
        },
        {
          "output_type": "stream",
          "name": "stdout",
          "text": [
            "start_training\n"
          ]
        },
        {
          "output_type": "stream",
          "name": "stderr",
          "text": [
            "\r 50%|█████     | 2/4 [02:54<02:53, 86.52s/it]"
          ]
        },
        {
          "output_type": "stream",
          "name": "stdout",
          "text": [
            "full grad computed\n",
            "norm diffs computed\n"
          ]
        },
        {
          "output_type": "display_data",
          "data": {
            "text/plain": [
              "<Figure size 640x480 with 1 Axes>"
            ],
            "image/png": "[encoded data removed]"
          },
          "metadata": {}
        },
        {
          "output_type": "stream",
          "name": "stdout",
          "text": [
            "start_training\n"
          ]
        },
        {
          "output_type": "stream",
          "name": "stderr",
          "text": [
            "\r 75%|███████▌  | 3/4 [04:19<01:25, 85.84s/it]"
          ]
        },
        {
          "output_type": "stream",
          "name": "stdout",
          "text": [
            "full grad computed\n",
            "norm diffs computed\n"
          ]
        },
        {
          "output_type": "display_data",
          "data": {
            "text/plain": [
              "<Figure size 640x480 with 1 Axes>"
            ],
            "image/png": "[encoded data removed]"
          },
          "metadata": {}
        },
        {
          "output_type": "stream",
          "name": "stdout",
          "text": [
            "start_training\n"
          ]
        },
        {
          "output_type": "stream",
          "name": "stderr",
          "text": [
            "100%|██████████| 4/4 [05:53<00:00, 88.42s/it]"
          ]
        },
        {
          "output_type": "stream",
          "name": "stdout",
          "text": [
            "Running Validation...\n"
          ]
        },
        {
          "output_type": "stream",
          "name": "stderr",
          "text": [
            "\n"
          ]
        },
        {
          "output_type": "stream",
          "name": "stdout",
          "text": [
            "  Accuracy: 0.59\n"
          ]
        }
      ]
    },
    {
      "cell_type": "code",
      "source": [
        "plt.hist(norm_diffs_every_epoch_Adam[-1])"
      ],
      "metadata": {
        "colab": {
          "base_uri": "https://localhost:8080/",
          "height": 521
        },
        "id": "eSG3O7KKCcfz",
        "outputId": "09877b03-27dc-4e1d-e218-d8a1b590fa74"
      },
      "execution_count": null,
      "outputs": [
        {
          "output_type": "execute_result",
          "data": {
            "text/plain": [
              "(array([147., 152., 144., 168., 149., 164., 149., 160., 164., 166.]),\n",
              " array([  41.43498993,  307.91185226,  574.3887146 ,  840.86557693,\n",
              "        1107.34243927, 1373.81930161, 1640.29616394, 1906.77302628,\n",
              "        2173.24988861, 2439.72675095, 2706.20361328]),\n",
              " <BarContainer object of 10 artists>)"
            ]
          },
          "metadata": {},
          "execution_count": 31
        },
        {
          "output_type": "display_data",
          "data": {
            "text/plain": [
              "<Figure size 640x480 with 1 Axes>"
            ],
            "image/png": "[encoded data removed]"
          },
          "metadata": {}
        }
      ]
    },
    {
      "cell_type": "markdown",
      "metadata": {
        "id": "FC2nb-nqrob-"
      },
      "source": [
        "Добавим функции из семинара"
      ]
    },
    {
      "cell_type": "code",
      "execution_count": null,
      "metadata": {
        "id": "9q4H9wZKrtHF"
      },
      "outputs": [],
      "source": [
        "def get_loss(batch,model):\n",
        "\n",
        "  inputs, labels = batch\n",
        "\n",
        "  outputs = model(inputs.to(device))\n",
        "  loss = criterion(outputs, labels.to(device))\n",
        "\n",
        "  return loss\n",
        "def get_accuracy(model,batch):\n",
        "  inputs, labels = batch\n",
        "\n",
        "  outputs = model(inputs.to(device))\n",
        "  \n",
        "        \n",
        "        # Calculate the accuracy for this batch of test sentences.\n",
        "   \n",
        "\n",
        "  return flat_accuracy(outputs.detach().cpu().numpy(), labels.detach().cpu().numpy())\n",
        "def flat_accuracy(preds, labels):\n",
        "  # print(preds.shape())\n",
        "  pred_flat = np.argmax(preds, axis=1).flatten()\n",
        "  labels_flat = labels.flatten()\n",
        "  return np.sum(pred_flat == labels_flat) / len(labels_flat)                \n",
        "def validation(model):\n",
        "  print(\"Running Validation...\")\n",
        "  model.eval()\n",
        "  eval_loss, eval_accuracy = 0, 0\n",
        "  nb_eval_steps, nb_eval_examples = 0, 0\n",
        "    # Evaluate data for one epoch\n",
        "  for batch in validation_dataloader:\n",
        "    tmp_eval_accuracy = get_accuracy(model,batch)\n",
        "    eval_accuracy += tmp_eval_accuracy\n",
        "    nb_eval_steps += 1\n",
        "    # Report the final accuracy for this validation run.\n",
        "\n",
        "  print(\"  Accuracy: {0:.2f}\".format(eval_accuracy/nb_eval_steps) )\n",
        "  # print(\" matthews_corrcoef_metric: {0:.2f}\".format(np.mean(matthews_set)))"
      ]
    },
    {
      "cell_type": "code",
      "source": [],
      "metadata": {
        "id": "I2SgGCGA0aW-"
      },
      "execution_count": null,
      "outputs": []
    },
    {
      "cell_type": "markdown",
      "metadata": {
        "id": "tW39Rf2G2KBv"
      },
      "source": [
        "Распределение отклонения стох.градиента от градиента в задаче компьютерного зрения похоже на нормальное. ACC справляется неплохо, Adam на равномерном распределении лучше."
      ]
    },
    {
      "cell_type": "markdown",
      "metadata": {
        "id": "u1Jp3WBD2fFq"
      },
      "source": [
        "# Задание №3\n",
        "\n",
        "__*данное задание стоит 6 баллов*__\n",
        "\n",
        "__*каждый из экспериментов с определенным оптимизатором в каждом пункте стоит 1 балла, эксперименты без объяснения будут оцениваться .25 балла*__ \n",
        "\n",
        "Проведите исследование по оптимизации моделей([№1](https://huggingface.co/transformers/model_doc/distilbert.html#distilbertforsequenceclassification) [№2](https://arxiv.org/pdf/1409.1556.pdf)) предложенных ниже, сравните скорости сходимости и полученные результаты для алгоритмов *SGD + Momentum*, *Adam*, *__ACClip__* с различными праметрами:\n",
        "- 1. lr - коэффициент обучения для всех элгоритмов (0.1, 0.01, 0.001, 0.0001) при фиксированных остальных гиперпараметрах \n",
        "  2. gamma - для SGD + momentum (0,9, 0,99, 0,5) для лучшего результата, полученного в пункте 1.\n",
        "  3. beta1, beta2 - для ACClip, ADAM - для различных значений (0,9, 0,99, 0,5) для лучшего результата, полученного в пункте 1.\n",
        "Объясните полученные Вами результаты.\n",
        "В задаче классификации изображений доучите уже предобученные веса , преждевренменно обучив последний линейный слой, для классификации изображений CIFAR10\n",
        "\n",
        "- Обоснуйте полученные результаты, опираясь на теорию лекции №8\n"
      ]
    },
    {
      "cell_type": "markdown",
      "metadata": {
        "id": "hLFiBTw1Wicj"
      },
      "source": [
        "В качестве датасета возьмем один одно из заданий, предложенных в качестве соревнований на [kaggle](https://www.kaggle.com/allen-institute-for-ai/CORD-19-research-challenge)"
      ]
    },
    {
      "cell_type": "code",
      "execution_count": 8,
      "metadata": {
        "id": "v7DnNNswvX3Z",
        "colab": {
          "base_uri": "https://localhost:8080/",
          "height": 206
        },
        "outputId": "f942a786-609d-4726-a266-bee4e115273a"
      },
      "outputs": [
        {
          "output_type": "execute_result",
          "data": {
            "text/plain": [
              "                query                                              title  \\\n",
              "0  coronavirus origin  Monophyletic Relationship between Severe Acute...   \n",
              "1  coronavirus origin  Comprehensive overview of COVID-19 based on cu...   \n",
              "2  coronavirus origin  The SARS, MERS and novel coronavirus (COVID-19...   \n",
              "3  coronavirus origin  Evidence for zoonotic origins of Middle East r...   \n",
              "4  coronavirus origin             Deadly virus effortlessly hops species   \n",
              "\n",
              "   label  \n",
              "0      1  \n",
              "1      1  \n",
              "2      1  \n",
              "3      1  \n",
              "4      1  "
            ],
            "text/html": [
              "\n",
              "  <div id=\"df-428a5914-f44e-4b95-8003-e9ad8c2b6d66\">\n",
              "    <div class=\"colab-df-container\">\n",
              "      <div>\n",
              "<style scoped>\n",
              "    .dataframe tbody tr th:only-of-type {\n",
              "        vertical-align: middle;\n",
              "    }\n",
              "\n",
              "    .dataframe tbody tr th {\n",
              "        vertical-align: top;\n",
              "    }\n",
              "\n",
              "    .dataframe thead th {\n",
              "        text-align: right;\n",
              "    }\n",
              "</style>\n",
              "<table border=\"1\" class=\"dataframe\">\n",
              "  <thead>\n",
              "    <tr style=\"text-align: right;\">\n",
              "      <th></th>\n",
              "      <th>query</th>\n",
              "      <th>title</th>\n",
              "      <th>label</th>\n",
              "    </tr>\n",
              "  </thead>\n",
              "  <tbody>\n",
              "    <tr>\n",
              "      <th>0</th>\n",
              "      <td>coronavirus origin</td>\n",
              "      <td>Monophyletic Relationship between Severe Acute...</td>\n",
              "      <td>1</td>\n",
              "    </tr>\n",
              "    <tr>\n",
              "      <th>1</th>\n",
              "      <td>coronavirus origin</td>\n",
              "      <td>Comprehensive overview of COVID-19 based on cu...</td>\n",
              "      <td>1</td>\n",
              "    </tr>\n",
              "    <tr>\n",
              "      <th>2</th>\n",
              "      <td>coronavirus origin</td>\n",
              "      <td>The SARS, MERS and novel coronavirus (COVID-19...</td>\n",
              "      <td>1</td>\n",
              "    </tr>\n",
              "    <tr>\n",
              "      <th>3</th>\n",
              "      <td>coronavirus origin</td>\n",
              "      <td>Evidence for zoonotic origins of Middle East r...</td>\n",
              "      <td>1</td>\n",
              "    </tr>\n",
              "    <tr>\n",
              "      <th>4</th>\n",
              "      <td>coronavirus origin</td>\n",
              "      <td>Deadly virus effortlessly hops species</td>\n",
              "      <td>1</td>\n",
              "    </tr>\n",
              "  </tbody>\n",
              "</table>\n",
              "</div>\n",
              "      <button class=\"colab-df-convert\" onclick=\"convertToInteractive('df-428a5914-f44e-4b95-8003-e9ad8c2b6d66')\"\n",
              "              title=\"Convert this dataframe to an interactive table.\"\n",
              "              style=\"display:none;\">\n",
              "        \n",
              "  <svg xmlns=\"http://www.w3.org/2000/svg\" height=\"24px\"viewBox=\"0 0 24 24\"\n",
              "       width=\"24px\">\n",
              "    <path d=\"M0 0h24v24H0V0z\" fill=\"none\"/>\n",
              "    <path d=\"M18.56 5.44l.94 2.06.94-2.06 2.06-.94-2.06-.94-.94-2.06-.94 2.06-2.06.94zm-11 1L8.5 8.5l.94-2.06 2.06-.94-2.06-.94L8.5 2.5l-.94 2.06-2.06.94zm10 10l.94 2.06.94-2.06 2.06-.94-2.06-.94-.94-2.06-.94 2.06-2.06.94z\"/><path d=\"M17.41 7.96l-1.37-1.37c-.4-.4-.92-.59-1.43-.59-.52 0-1.04.2-1.43.59L10.3 9.45l-7.72 7.72c-.78.78-.78 2.05 0 2.83L4 21.41c.39.39.9.59 1.41.59.51 0 1.02-.2 1.41-.59l7.78-7.78 2.81-2.81c.8-.78.8-2.07 0-2.86zM5.41 20L4 18.59l7.72-7.72 1.47 1.35L5.41 20z\"/>\n",
              "  </svg>\n",
              "      </button>\n",
              "      \n",
              "  <style>\n",
              "    .colab-df-container {\n",
              "      display:flex;\n",
              "      flex-wrap:wrap;\n",
              "      gap: 12px;\n",
              "    }\n",
              "\n",
              "    .colab-df-convert {\n",
              "      background-color: #E8F0FE;\n",
              "      border: none;\n",
              "      border-radius: 50%;\n",
              "      cursor: pointer;\n",
              "      display: none;\n",
              "      fill: #1967D2;\n",
              "      height: 32px;\n",
              "      padding: 0 0 0 0;\n",
              "      width: 32px;\n",
              "    }\n",
              "\n",
              "    .colab-df-convert:hover {\n",
              "      background-color: #E2EBFA;\n",
              "      box-shadow: 0px 1px 2px rgba(60, 64, 67, 0.3), 0px 1px 3px 1px rgba(60, 64, 67, 0.15);\n",
              "      fill: #174EA6;\n",
              "    }\n",
              "\n",
              "    [theme=dark] .colab-df-convert {\n",
              "      background-color: #3B4455;\n",
              "      fill: #D2E3FC;\n",
              "    }\n",
              "\n",
              "    [theme=dark] .colab-df-convert:hover {\n",
              "      background-color: #434B5C;\n",
              "      box-shadow: 0px 1px 3px 1px rgba(0, 0, 0, 0.15);\n",
              "      filter: drop-shadow(0px 1px 2px rgba(0, 0, 0, 0.3));\n",
              "      fill: #FFFFFF;\n",
              "    }\n",
              "  </style>\n",
              "\n",
              "      <script>\n",
              "        const buttonEl =\n",
              "          document.querySelector('#df-428a5914-f44e-4b95-8003-e9ad8c2b6d66 button.colab-df-convert');\n",
              "        buttonEl.style.display =\n",
              "          google.colab.kernel.accessAllowed ? 'block' : 'none';\n",
              "\n",
              "        async function convertToInteractive(key) {\n",
              "          const element = document.querySelector('#df-428a5914-f44e-4b95-8003-e9ad8c2b6d66');\n",
              "          const dataTable =\n",
              "            await google.colab.kernel.invokeFunction('convertToInteractive',\n",
              "                                                     [key], {});\n",
              "          if (!dataTable) return;\n",
              "\n",
              "          const docLinkHtml = 'Like what you see? Visit the ' +\n",
              "            '<a target=\"_blank\" href=https://colab.research.google.com/notebooks/data_table.ipynb>data table notebook</a>'\n",
              "            + ' to learn more about interactive tables.';\n",
              "          element.innerHTML = '';\n",
              "          dataTable['output_type'] = 'display_data';\n",
              "          await google.colab.output.renderOutput(dataTable, element);\n",
              "          const docLink = document.createElement('div');\n",
              "          docLink.innerHTML = docLinkHtml;\n",
              "          element.appendChild(docLink);\n",
              "        }\n",
              "      </script>\n",
              "    </div>\n",
              "  </div>\n",
              "  "
            ]
          },
          "metadata": {},
          "execution_count": 8
        }
      ],
      "source": [
        "df = pd.read_csv(\"https://thigm85.github.io/data/cord19/cord19-query-title-label.csv\")\n",
        "df.head()"
      ]
    },
    {
      "cell_type": "code",
      "execution_count": 9,
      "metadata": {
        "colab": {
          "base_uri": "https://localhost:8080/"
        },
        "id": "ksvT2ioULBf9",
        "outputId": "ffa0129f-2ea2-4fb3-f285-acb0698b230a"
      },
      "outputs": [
        {
          "output_type": "stream",
          "name": "stdout",
          "text": [
            "Loading DistilBERT tokenizer...\n"
          ]
        }
      ],
      "source": [
        "print('Loading DistilBERT tokenizer...')\n",
        "tokenizer = DistilBertTokenizer.from_pretrained('distilbert-base-uncased', do_lower_case=True)\n"
      ]
    },
    {
      "cell_type": "code",
      "execution_count": 10,
      "metadata": {
        "colab": {
          "base_uri": "https://localhost:8080/"
        },
        "id": "3_vw4JxhLMfp",
        "outputId": "9e5e3e33-7c19-48f4-ac30-21aa2a863b39"
      },
      "outputs": [
        {
          "output_type": "stream",
          "name": "stdout",
          "text": [
            "Loading BERT tokenizer...\n",
            "Original:  Monophyletic Relationship between Severe Acute Respiratory Syndrome Coronavirus and Group 2 Coronaviruses\n",
            "Token IDs: [101, 18847, 21281, 7485, 2594, 3276, 2090, 5729, 11325, 16464, 8715, 21887, 23350, 1998, 2177, 1016, 21887, 23350, 2229, 102]\n"
          ]
        }
      ],
      "source": [
        "print('Loading BERT tokenizer...')\n",
        "tokenizer = BertTokenizer.from_pretrained('bert-base-uncased', do_lower_case=True)\n",
        "# токенизируем предложения исходного датасета\n",
        "input_ids = []\n",
        "# For every sentence...\n",
        "for sent in df.title.values:\n",
        "    #   (1) токинизируем предложение.\n",
        "    #   (2) добавляем символ `[CLS]`в начало предложения.\n",
        "    #   (3) и символ `[SEP]`в конец.\n",
        "    #   (4) маркеруем все токены в их id\n",
        "    encoded_sent = tokenizer.encode(\n",
        "                        sent,                      \n",
        "                        add_special_tokens = True, # добавляем '[CLS]' и '[SEP]'\n",
        "                   )\n",
        "    \n",
        "    input_ids.append(encoded_sent)\n",
        "print('Original: ', df.title.values[0])\n",
        "print('Token IDs:', input_ids[0])\n"
      ]
    },
    {
      "cell_type": "code",
      "execution_count": 11,
      "metadata": {
        "colab": {
          "base_uri": "https://localhost:8080/"
        },
        "id": "1sS5ns-x2MqN",
        "outputId": "f9b321a4-1dd5-4336-d269-774ebcdfe4c2"
      },
      "outputs": [
        {
          "output_type": "stream",
          "name": "stdout",
          "text": [
            "\n",
            "Padding/truncating all sentences to 125 values...\n",
            "\n",
            "Padding token: \"[PAD]\", ID: 0\n",
            "\\Done.\n"
          ]
        }
      ],
      "source": [
        "MAX_LEN =  max([len(sen) for sen in input_ids])+1\n",
        "print('\\nPadding/truncating all sentences to %d values...' % MAX_LEN)\n",
        "print('\\nPadding token: \"{:}\", ID: {:}'.format(tokenizer.pad_token, tokenizer.pad_token_id))\n",
        "\n",
        "input_ids = pad_sequences(input_ids, maxlen=MAX_LEN, dtype=\"long\", \n",
        "                          value=0, truncating=\"post\", padding=\"post\")\n",
        "print('\\Done.')"
      ]
    },
    {
      "cell_type": "code",
      "execution_count": 12,
      "metadata": {
        "id": "c8yqNmwcy6F3"
      },
      "outputs": [],
      "source": [
        "# создадим attantion маску для кажого предложения\n",
        "attention_masks = []\n",
        "for sent in input_ids:\n",
        "    \n",
        "    # Create the attention mask.\n",
        "    #   - если  ID = 0 тогда не стоит обрабатывать данный токен в процессе обучения, поскольку это паддинг\n",
        "    #   - если  ID > 0 тогда стоит использовать данный токен, поскольку он является частью предложения\n",
        "    att_mask = [int(token_id > 0) for token_id in sent]\n",
        "    \n",
        "    attention_masks.append(att_mask)"
      ]
    },
    {
      "cell_type": "code",
      "execution_count": 13,
      "metadata": {
        "colab": {
          "base_uri": "https://localhost:8080/",
          "height": 447
        },
        "id": "A_9KnA3JwsGh",
        "outputId": "ce6ad655-2147-40a9-f97d-7b4d2dbcbdf7"
      },
      "outputs": [
        {
          "output_type": "execute_result",
          "data": {
            "text/plain": [
              "<matplotlib.collections.PolyCollection at 0x7f758ea035e0>"
            ]
          },
          "metadata": {},
          "execution_count": 13
        },
        {
          "output_type": "display_data",
          "data": {
            "text/plain": [
              "<Figure size 640x480 with 1 Axes>"
            ],
            "image/png": "[encoded data removed]"
          },
          "metadata": {}
        }
      ],
      "source": [
        "plt.pcolor(attention_masks)"
      ]
    },
    {
      "cell_type": "code",
      "execution_count": 14,
      "metadata": {
        "colab": {
          "base_uri": "https://localhost:8080/"
        },
        "id": "nBKEaeDQMSRY",
        "outputId": "2d288171-18cc-45f6-d623-fb0c17aef1d8"
      },
      "outputs": [
        {
          "output_type": "stream",
          "name": "stdout",
          "text": [
            "There are 1 GPU(s) available.\n",
            "We will use the GPU: Tesla T4\n"
          ]
        }
      ],
      "source": [
        "train_inputs, validation_inputs, train_labels, validation_labels = train_test_split(input_ids,df.label.values, \n",
        "                                                            random_state=2018, test_size=0.1)\n",
        "\n",
        "train_masks, validation_masks, _, _ = train_test_split(attention_masks, df.label.values,\n",
        "                                             random_state=2018, test_size=0.1)\n",
        "\n",
        "\n",
        "if torch.cuda.is_available():    \n",
        "    device = torch.device(\"cuda\")\n",
        "    print('There are %d GPU(s) available.' % torch.cuda.device_count())\n",
        "    print('We will use the GPU:', torch.cuda.get_device_name(0))\n",
        "else:\n",
        "    print('No GPU available, using the CPU instead.')\n",
        "    device = torch.device(\"cpu\")\n",
        "\n",
        "train_inputs = torch.tensor(train_inputs)\n",
        "validation_inputs = torch.tensor(validation_inputs)\n",
        "train_labels = torch.tensor(train_labels)\n",
        "validation_labels = torch.tensor(validation_labels)\n",
        "train_masks = torch.tensor(train_masks)\n",
        "validation_masks = torch.tensor(validation_masks)\n",
        "\n",
        "### даталоадер для вычисления полного градиента\n",
        "batch_size = 250#train_inputs.shape[0]\n",
        "train_data = TensorDataset(train_inputs, train_masks, train_labels)\n",
        "train_sampler = RandomSampler(train_data)\n",
        "train_dataloader_for_full_grad = DataLoader(train_data, sampler=train_sampler, batch_size=batch_size)\n",
        "\n",
        "\n",
        "### для обучения\n",
        "batch_size = 16#train_inputs.shape[0]\n",
        "train_data = TensorDataset(train_inputs, train_masks, train_labels)\n",
        "train_sampler = RandomSampler(train_data)\n",
        "train_dataloader = DataLoader(train_data, sampler=train_sampler, batch_size=batch_size)\n",
        "\n",
        "validation_data = TensorDataset(validation_inputs, validation_masks, validation_labels)\n",
        "validation_sampler = SequentialSampler(validation_data)\n",
        "validation_dataloader = DataLoader(validation_data, sampler=validation_sampler, batch_size=batch_size)\n"
      ]
    },
    {
      "cell_type": "code",
      "execution_count": 15,
      "metadata": {
        "colab": {
          "base_uri": "https://localhost:8080/"
        },
        "id": "76dqayMsMXjw",
        "outputId": "661a3205-abec-434d-cd38-0d36faa56221"
      },
      "outputs": [
        {
          "output_type": "stream",
          "name": "stdout",
          "text": [
            "There are 1 GPU(s) available.\n",
            "We will use the GPU: Tesla T4\n"
          ]
        }
      ],
      "source": [
        "# If there's a GPU available...\n",
        "if torch.cuda.is_available():    \n",
        "    # Tell PyTorch to use the GPU.    \n",
        "    device = torch.device(\"cuda\")\n",
        "    print('There are %d GPU(s) available.' % torch.cuda.device_count())\n",
        "    print('We will use the GPU:', torch.cuda.get_device_name(0))\n",
        "# If not...\n",
        "else:\n",
        "    print('No GPU available, using the CPU instead.')\n",
        "    device = torch.device(\"cpu\")"
      ]
    },
    {
      "cell_type": "code",
      "execution_count": 16,
      "metadata": {
        "colab": {
          "base_uri": "https://localhost:8080/"
        },
        "id": "8JuB4rK2Mbfs",
        "outputId": "81a3b11e-ed1e-40da-f876-ec787b9dbde0"
      },
      "outputs": [
        {
          "output_type": "stream",
          "name": "stderr",
          "text": [
            "<ipython-input-16-42a06c90195a>:1: UserWarning: To copy construct from a tensor, it is recommended to use sourceTensor.clone().detach() or sourceTensor.clone().detach().requires_grad_(True), rather than torch.tensor(sourceTensor).\n",
            "  train_inputs = torch.tensor(train_inputs)\n",
            "<ipython-input-16-42a06c90195a>:2: UserWarning: To copy construct from a tensor, it is recommended to use sourceTensor.clone().detach() or sourceTensor.clone().detach().requires_grad_(True), rather than torch.tensor(sourceTensor).\n",
            "  validation_inputs = torch.tensor(validation_inputs)\n",
            "<ipython-input-16-42a06c90195a>:3: UserWarning: To copy construct from a tensor, it is recommended to use sourceTensor.clone().detach() or sourceTensor.clone().detach().requires_grad_(True), rather than torch.tensor(sourceTensor).\n",
            "  train_labels = torch.tensor(train_labels)\n",
            "<ipython-input-16-42a06c90195a>:4: UserWarning: To copy construct from a tensor, it is recommended to use sourceTensor.clone().detach() or sourceTensor.clone().detach().requires_grad_(True), rather than torch.tensor(sourceTensor).\n",
            "  validation_labels = torch.tensor(validation_labels)\n",
            "<ipython-input-16-42a06c90195a>:5: UserWarning: To copy construct from a tensor, it is recommended to use sourceTensor.clone().detach() or sourceTensor.clone().detach().requires_grad_(True), rather than torch.tensor(sourceTensor).\n",
            "  train_masks = torch.tensor(train_masks)\n",
            "<ipython-input-16-42a06c90195a>:6: UserWarning: To copy construct from a tensor, it is recommended to use sourceTensor.clone().detach() or sourceTensor.clone().detach().requires_grad_(True), rather than torch.tensor(sourceTensor).\n",
            "  validation_masks = torch.tensor(validation_masks)\n"
          ]
        }
      ],
      "source": [
        "train_inputs = torch.tensor(train_inputs)\n",
        "validation_inputs = torch.tensor(validation_inputs)\n",
        "train_labels = torch.tensor(train_labels)\n",
        "validation_labels = torch.tensor(validation_labels)\n",
        "train_masks = torch.tensor(train_masks)\n",
        "validation_masks = torch.tensor(validation_masks)"
      ]
    },
    {
      "cell_type": "code",
      "execution_count": 17,
      "metadata": {
        "id": "DR-Jsit6MgoL"
      },
      "outputs": [],
      "source": [
        "###full_grad_dataloader\n",
        "batch_size = 250 #train_inputs.shape[0]\n",
        "# Create the DataLoader for our training set.\n",
        "train_data = TensorDataset(train_inputs, train_masks, train_labels)\n",
        "train_sampler = RandomSampler(train_data)\n",
        "train_dataloader_for_full_grad = DataLoader(train_data, sampler=train_sampler, batch_size=batch_size)\n",
        "\n",
        "\n",
        "### for training\n",
        "batch_size = 16#train_inputs.shape[0]\n",
        "# Create the DataLoader for our training set.\n",
        "train_data = TensorDataset(train_inputs, train_masks, train_labels)\n",
        "train_sampler = RandomSampler(train_data)\n",
        "train_dataloader = DataLoader(train_data, sampler=train_sampler, batch_size=batch_size)\n",
        "\n",
        "validation_data = TensorDataset(validation_inputs, validation_masks, validation_labels)\n",
        "validation_sampler = SequentialSampler(validation_data)\n",
        "validation_dataloader = DataLoader(validation_data, sampler=validation_sampler,  batch_size=len(validation_data)//5)"
      ]
    },
    {
      "cell_type": "code",
      "execution_count": 18,
      "metadata": {
        "colab": {
          "base_uri": "https://localhost:8080/"
        },
        "id": "Y9thIb80MmyD",
        "outputId": "4b200584-1040-44ce-de5b-a2808c1fd493"
      },
      "outputs": [
        {
          "output_type": "stream",
          "name": "stderr",
          "text": [
            "Some weights of the model checkpoint at distilbert-base-uncased were not used when initializing DistilBertForSequenceClassification: ['vocab_layer_norm.bias', 'vocab_projector.bias', 'vocab_transform.bias', 'vocab_transform.weight', 'vocab_layer_norm.weight', 'vocab_projector.weight']\n",
            "- This IS expected if you are initializing DistilBertForSequenceClassification from the checkpoint of a model trained on another task or with another architecture (e.g. initializing a BertForSequenceClassification model from a BertForPreTraining model).\n",
            "- This IS NOT expected if you are initializing DistilBertForSequenceClassification from the checkpoint of a model that you expect to be exactly identical (initializing a BertForSequenceClassification model from a BertForSequenceClassification model).\n",
            "Some weights of DistilBertForSequenceClassification were not initialized from the model checkpoint at distilbert-base-uncased and are newly initialized: ['pre_classifier.weight', 'classifier.weight', 'classifier.bias', 'pre_classifier.bias']\n",
            "You should probably TRAIN this model on a down-stream task to be able to use it for predictions and inference.\n"
          ]
        },
        {
          "output_type": "execute_result",
          "data": {
            "text/plain": [
              "DistilBertForSequenceClassification(\n",
              "  (distilbert): DistilBertModel(\n",
              "    (embeddings): Embeddings(\n",
              "      (word_embeddings): Embedding(30522, 768, padding_idx=0)\n",
              "      (position_embeddings): Embedding(512, 768)\n",
              "      (LayerNorm): LayerNorm((768,), eps=1e-12, elementwise_affine=True)\n",
              "      (dropout): Dropout(p=0.1, inplace=False)\n",
              "    )\n",
              "    (transformer): Transformer(\n",
              "      (layer): ModuleList(\n",
              "        (0-5): 6 x TransformerBlock(\n",
              "          (attention): MultiHeadSelfAttention(\n",
              "            (dropout): Dropout(p=0.1, inplace=False)\n",
              "            (q_lin): Linear(in_features=768, out_features=768, bias=True)\n",
              "            (k_lin): Linear(in_features=768, out_features=768, bias=True)\n",
              "            (v_lin): Linear(in_features=768, out_features=768, bias=True)\n",
              "            (out_lin): Linear(in_features=768, out_features=768, bias=True)\n",
              "          )\n",
              "          (sa_layer_norm): LayerNorm((768,), eps=1e-12, elementwise_affine=True)\n",
              "          (ffn): FFN(\n",
              "            (dropout): Dropout(p=0.1, inplace=False)\n",
              "            (lin1): Linear(in_features=768, out_features=3072, bias=True)\n",
              "            (lin2): Linear(in_features=3072, out_features=768, bias=True)\n",
              "            (activation): GELUActivation()\n",
              "          )\n",
              "          (output_layer_norm): LayerNorm((768,), eps=1e-12, elementwise_affine=True)\n",
              "        )\n",
              "      )\n",
              "    )\n",
              "  )\n",
              "  (pre_classifier): Linear(in_features=768, out_features=768, bias=True)\n",
              "  (classifier): Linear(in_features=768, out_features=2, bias=True)\n",
              "  (dropout): Dropout(p=0.2, inplace=False)\n",
              ")"
            ]
          },
          "metadata": {},
          "execution_count": 18
        }
      ],
      "source": [
        "# загрузим  DistilBertForSequenceClassification с одним выходным слоем и претрененными весами\n",
        "torch.manual_seed(15)\n",
        "model = DistilBertForSequenceClassification.from_pretrained(\n",
        "    \"distilbert-base-uncased\", \n",
        "    num_labels = 2, \n",
        "    output_attentions = False, \n",
        "    output_hidden_states = False, \n",
        ")\n",
        "# model.cuda()\n",
        "model.to(device)"
      ]
    },
    {
      "cell_type": "code",
      "execution_count": 19,
      "metadata": {
        "id": "sRU2tnAyrdIO"
      },
      "outputs": [],
      "source": [
        "from sklearn.metrics import accuracy_score, precision_recall_fscore_support\n",
        "\n",
        "def compute_metrics(preds,labels):\n",
        "    precision, recall, f1, _ = precision_recall_fscore_support(labels, preds, average='binary')\n",
        "    acc = accuracy_score(labels, preds)\n",
        "    return {\n",
        "        'accuracy': acc,\n",
        "        'f1': f1,\n",
        "        'precision': precision,\n",
        "        'recall': recall\n",
        "    }"
      ]
    },
    {
      "cell_type": "code",
      "execution_count": 57,
      "metadata": {
        "id": "w9XJWQERM4Z3"
      },
      "outputs": [],
      "source": [
        "def training(model,n_epochs,optimizer):\n",
        "  for i in tqdm.tqdm(range(n_epochs)):\n",
        "    model.train()\n",
        "    for step, batch in enumerate(train_dataloader):\n",
        "      optimizer.zero_grad()\n",
        "      loss=get_loss(batch,model)\n",
        "      loss.backward()\n",
        "      optimizer.step()\n",
        "    validation(model)\n",
        "\n",
        "def get_metrics(model,batch):\n",
        "  b_input_ids = batch[0].to(device)\n",
        "  b_input_mask = batch[1].to(device)\n",
        "  b_labels = batch[2].to(device)\n",
        "  with torch.no_grad():\n",
        "    outputs = model(b_input_ids,  \n",
        "                      attention_mask=b_input_mask, \n",
        "                      labels=b_labels)\n",
        "  logits = torch.argmax(outputs.logits,1).detach().cpu().numpy()\n",
        "  label_ids = b_labels.to('cpu').numpy()\n",
        "        \n",
        "        # Calculate the accuracy for this batch of test sentences.\n",
        "\n",
        "  return compute_metrics(logits, label_ids)\n",
        "           \n",
        "def validation(model):\n",
        "  print(\"Running Validation...\")\n",
        "  acc_set=[]\n",
        "  f1_set=[]\n",
        "  precision_set=[]\n",
        "  recall_set=[]\n",
        "  model.eval()\n",
        "  eval_loss, eval_accuracy = 0, 0\n",
        "  nb_eval_steps, nb_eval_examples = 0, 0\n",
        "    # Evaluate data for one epoch\n",
        "  for batch in validation_dataloader:\n",
        "    computed_results= get_metrics(model,batch)\n",
        "    acc_set.append(computed_results['accuracy'])\n",
        "    f1_set.append(computed_results['f1'])\n",
        "    precision_set.append(computed_results['precision'])\n",
        "    recall_set.append(computed_results['recall'])\n",
        "\n",
        "    # Report the final accuracy for this validation run.\n",
        "\n",
        "  print(\"  Accuracy: {0:.2f}\".format(np.mean(acc_set)) )\n",
        "  print(\" f1=: {0:.2f}\".format(np.mean(f1_set)))\n",
        "  print(\" precision=: {0:.2f}\".format(np.mean(precision_set)))\n",
        "  print(\" recall=: {0:.2f}\".format(np.mean(recall_set)))\n"
      ]
    },
    {
      "cell_type": "markdown",
      "metadata": {
        "id": "9STw6ZVPcv9p"
      },
      "source": [
        "### Пункт №1(оптимизация языковой модели) \n",
        "Ваши эксперименты здесь"
      ]
    },
    {
      "cell_type": "code",
      "execution_count": 58,
      "metadata": {
        "id": "Njqfx2Y5jjoV"
      },
      "outputs": [],
      "source": [
        "def get_loss(batch,model):\n",
        "  b_input_ids = batch[0]#.to(device)\n",
        "  b_input_mask = batch[1]#.to(device)\n",
        "  b_labels = batch[2]#.to(device)\n",
        "    ##############Bug fix code####################\n",
        "  b_input_ids = b_input_ids.type(torch.LongTensor)\n",
        "  b_input_mask = b_input_mask.type(torch.LongTensor)\n",
        "  b_labels = b_labels.type(torch.LongTensor)\n",
        "\n",
        "  b_input_ids = b_input_ids.to(device)\n",
        "  b_input_mask = b_input_mask.to(device)\n",
        "  b_labels = b_labels.to(device)\n",
        "    ############################################\n",
        "  outputs = model(input_ids = b_input_ids, attention_mask=b_input_mask, labels=b_labels)\n",
        "  # inputs, masks, labels = batch\n",
        "  # outputs = model(inputs.to(device))\n",
        "  # loss = criterion(outputs, labels.to(device))\n",
        "  return outputs.loss #loss\n",
        "\n",
        "def get_accuracy(model,batch):\n",
        "  inputs, _, labels = batch\n",
        "  with torch.no_grad():\n",
        "    outputs = model(inputs.to(device))[:2]\n",
        "        # Calculate\n",
        "  return flat_accuracy(torch.stack(outputs).cpu().numpy(), labels.detach().cpu().numpy())\n",
        "\n",
        "def flat_accuracy(preds, labels):\n",
        "  # print(preds.shape())\n",
        "  pred_flat = np.argmax(preds, axis=1).flatten()\n",
        "  labels_flat = labels.flatten()\n",
        "  return np.sum(pred_flat == labels_flat) / len(labels_flat)  \n",
        "\n",
        "def validation(model):\n",
        "  print(\"Running Validation...\")\n",
        "  model.eval()\n",
        "  eval_loss, eval_accuracy = 0, 0\n",
        "  nb_eval_steps, nb_eval_examples = 0, 0\n",
        "    # Evaluate data for one epoch\n",
        "  for batch in validation_dataloader:\n",
        "    tmp_eval_accuracy = get_accuracy(model,batch)\n",
        "    eval_accuracy += tmp_eval_accuracy\n",
        "    nb_eval_steps += 1\n",
        "    # Report the final accuracy for this validation run.\n",
        "\n",
        "  print(\"  Accuracy: {0:.2f}\".format(eval_accuracy/nb_eval_steps) )"
      ]
    },
    {
      "cell_type": "code",
      "execution_count": 56,
      "metadata": {
        "id": "p7FGxaph1cdD",
        "colab": {
          "base_uri": "https://localhost:8080/",
          "height": 765
        },
        "outputId": "7441f281-2ab7-43f8-8a96-93743cd81b61"
      },
      "outputs": [
        {
          "output_type": "stream",
          "name": "stdout",
          "text": [
            "ACC experiments\n",
            "0.1\n"
          ]
        },
        {
          "output_type": "stream",
          "name": "stderr",
          "text": [
            "Some weights of the model checkpoint at distilbert-base-uncased were not used when initializing DistilBertForSequenceClassification: ['vocab_layer_norm.bias', 'vocab_projector.bias', 'vocab_transform.bias', 'vocab_transform.weight', 'vocab_layer_norm.weight', 'vocab_projector.weight']\n",
            "- This IS expected if you are initializing DistilBertForSequenceClassification from the checkpoint of a model trained on another task or with another architecture (e.g. initializing a BertForSequenceClassification model from a BertForPreTraining model).\n",
            "- This IS NOT expected if you are initializing DistilBertForSequenceClassification from the checkpoint of a model that you expect to be exactly identical (initializing a BertForSequenceClassification model from a BertForSequenceClassification model).\n",
            "Some weights of DistilBertForSequenceClassification were not initialized from the model checkpoint at distilbert-base-uncased and are newly initialized: ['pre_classifier.weight', 'classifier.weight', 'classifier.bias', 'pre_classifier.bias']\n",
            "You should probably TRAIN this model on a down-stream task to be able to use it for predictions and inference.\n",
            "  0%|          | 0/2 [00:00<?, ?it/s]"
          ]
        },
        {
          "output_type": "stream",
          "name": "stdout",
          "text": [
            "Running Validation...\n"
          ]
        },
        {
          "output_type": "stream",
          "name": "stderr",
          "text": [
            "<ipython-input-55-83e74346ad37>:35: DeprecationWarning: elementwise comparison failed; this will raise an error in the future.\n",
            "  return np.sum(pred_flat == labels_flat) / len(labels_flat)\n",
            " 50%|█████     | 1/2 [00:19<00:19, 19.12s/it]"
          ]
        },
        {
          "output_type": "stream",
          "name": "stdout",
          "text": [
            "  Accuracy: 0.00\n",
            "Running Validation...\n"
          ]
        },
        {
          "output_type": "stream",
          "name": "stderr",
          "text": [
            "100%|██████████| 2/2 [00:37<00:00, 18.81s/it]"
          ]
        },
        {
          "output_type": "stream",
          "name": "stdout",
          "text": [
            "  Accuracy: 0.00\n",
            "0.01\n"
          ]
        },
        {
          "output_type": "stream",
          "name": "stderr",
          "text": [
            "\n",
            "Some weights of the model checkpoint at distilbert-base-uncased were not used when initializing DistilBertForSequenceClassification: ['vocab_layer_norm.bias', 'vocab_projector.bias', 'vocab_transform.bias', 'vocab_transform.weight', 'vocab_layer_norm.weight', 'vocab_projector.weight']\n",
            "- This IS expected if you are initializing DistilBertForSequenceClassification from the checkpoint of a model trained on another task or with another architecture (e.g. initializing a BertForSequenceClassification model from a BertForPreTraining model).\n",
            "- This IS NOT expected if you are initializing DistilBertForSequenceClassification from the checkpoint of a model that you expect to be exactly identical (initializing a BertForSequenceClassification model from a BertForSequenceClassification model).\n",
            "Some weights of DistilBertForSequenceClassification were not initialized from the model checkpoint at distilbert-base-uncased and are newly initialized: ['pre_classifier.weight', 'classifier.weight', 'classifier.bias', 'pre_classifier.bias']\n",
            "You should probably TRAIN this model on a down-stream task to be able to use it for predictions and inference.\n",
            "  0%|          | 0/2 [00:00<?, ?it/s]"
          ]
        },
        {
          "output_type": "stream",
          "name": "stdout",
          "text": [
            "Running Validation...\n"
          ]
        },
        {
          "output_type": "stream",
          "name": "stderr",
          "text": [
            "\r  0%|          | 0/2 [00:07<?, ?it/s]\n"
          ]
        },
        {
          "output_type": "error",
          "ename": "KeyboardInterrupt",
          "evalue": "ignored",
          "traceback": [
            "\u001b[0;31m---------------------------------------------------------------------------\u001b[0m",
            "\u001b[0;31mKeyboardInterrupt\u001b[0m                         Traceback (most recent call last)",
            "\u001b[0;32m<ipython-input-56-e46c1b1793e2>\u001b[0m in \u001b[0;36m<cell line: 3>\u001b[0;34m()\u001b[0m\n\u001b[1;32m     14\u001b[0m   \u001b[0mmodel\u001b[0m\u001b[0;34m.\u001b[0m\u001b[0mto\u001b[0m\u001b[0;34m(\u001b[0m\u001b[0mdevice\u001b[0m\u001b[0;34m)\u001b[0m\u001b[0;34m\u001b[0m\u001b[0;34m\u001b[0m\u001b[0m\n\u001b[1;32m     15\u001b[0m   \u001b[0moptimizer\u001b[0m \u001b[0;34m=\u001b[0m \u001b[0mACC\u001b[0m\u001b[0;34m(\u001b[0m\u001b[0mmodel\u001b[0m\u001b[0;34m.\u001b[0m\u001b[0mparameters\u001b[0m\u001b[0;34m(\u001b[0m\u001b[0;34m)\u001b[0m\u001b[0;34m,\u001b[0m \u001b[0mlr\u001b[0m\u001b[0;34m=\u001b[0m\u001b[0mlr\u001b[0m\u001b[0;34m)\u001b[0m \u001b[0;31m# исследуемый оптимизатор здесь\u001b[0m\u001b[0;34m\u001b[0m\u001b[0;34m\u001b[0m\u001b[0m\n\u001b[0;32m---> 16\u001b[0;31m   \u001b[0mtraining\u001b[0m\u001b[0;34m(\u001b[0m\u001b[0mmodel\u001b[0m\u001b[0;34m,\u001b[0m\u001b[0mn_epochs\u001b[0m\u001b[0;34m,\u001b[0m\u001b[0moptimizer\u001b[0m\u001b[0;34m)\u001b[0m\u001b[0;34m\u001b[0m\u001b[0;34m\u001b[0m\u001b[0m\n\u001b[0m\u001b[1;32m     17\u001b[0m   \u001b[0;32mdel\u001b[0m \u001b[0mmodel\u001b[0m\u001b[0;34m\u001b[0m\u001b[0;34m\u001b[0m\u001b[0m\n",
            "\u001b[0;32m<ipython-input-26-807c78fa3e17>\u001b[0m in \u001b[0;36mtraining\u001b[0;34m(model, n_epochs, optimizer)\u001b[0m\n\u001b[1;32m      7\u001b[0m     \u001b[0;31m#   loss.backward()\u001b[0m\u001b[0;34m\u001b[0m\u001b[0;34m\u001b[0m\u001b[0m\n\u001b[1;32m      8\u001b[0m     \u001b[0;31m#   optimizer.step()\u001b[0m\u001b[0;34m\u001b[0m\u001b[0;34m\u001b[0m\u001b[0m\n\u001b[0;32m----> 9\u001b[0;31m     \u001b[0mvalidation\u001b[0m\u001b[0;34m(\u001b[0m\u001b[0mmodel\u001b[0m\u001b[0;34m)\u001b[0m\u001b[0;34m\u001b[0m\u001b[0;34m\u001b[0m\u001b[0m\n\u001b[0m\u001b[1;32m     10\u001b[0m \u001b[0;34m\u001b[0m\u001b[0m\n\u001b[1;32m     11\u001b[0m \u001b[0;32mdef\u001b[0m \u001b[0mget_metrics\u001b[0m\u001b[0;34m(\u001b[0m\u001b[0mmodel\u001b[0m\u001b[0;34m,\u001b[0m\u001b[0mbatch\u001b[0m\u001b[0;34m)\u001b[0m\u001b[0;34m:\u001b[0m\u001b[0;34m\u001b[0m\u001b[0;34m\u001b[0m\u001b[0m\n",
            "\u001b[0;32m<ipython-input-55-83e74346ad37>\u001b[0m in \u001b[0;36mvalidation\u001b[0;34m(model)\u001b[0m\n\u001b[1;32m     42\u001b[0m     \u001b[0;31m# Evaluate data for one epoch\u001b[0m\u001b[0;34m\u001b[0m\u001b[0;34m\u001b[0m\u001b[0m\n\u001b[1;32m     43\u001b[0m   \u001b[0;32mfor\u001b[0m \u001b[0mbatch\u001b[0m \u001b[0;32min\u001b[0m \u001b[0mvalidation_dataloader\u001b[0m\u001b[0;34m:\u001b[0m\u001b[0;34m\u001b[0m\u001b[0;34m\u001b[0m\u001b[0m\n\u001b[0;32m---> 44\u001b[0;31m     \u001b[0mtmp_eval_accuracy\u001b[0m \u001b[0;34m=\u001b[0m \u001b[0mget_accuracy\u001b[0m\u001b[0;34m(\u001b[0m\u001b[0mmodel\u001b[0m\u001b[0;34m,\u001b[0m\u001b[0mbatch\u001b[0m\u001b[0;34m)\u001b[0m\u001b[0;34m\u001b[0m\u001b[0;34m\u001b[0m\u001b[0m\n\u001b[0m\u001b[1;32m     45\u001b[0m     \u001b[0meval_accuracy\u001b[0m \u001b[0;34m+=\u001b[0m \u001b[0mtmp_eval_accuracy\u001b[0m\u001b[0;34m\u001b[0m\u001b[0;34m\u001b[0m\u001b[0m\n\u001b[1;32m     46\u001b[0m     \u001b[0mnb_eval_steps\u001b[0m \u001b[0;34m+=\u001b[0m \u001b[0;36m1\u001b[0m\u001b[0;34m\u001b[0m\u001b[0;34m\u001b[0m\u001b[0m\n",
            "\u001b[0;32m<ipython-input-55-83e74346ad37>\u001b[0m in \u001b[0;36mget_accuracy\u001b[0;34m(model, batch)\u001b[0m\n\u001b[1;32m     27\u001b[0m   \u001b[0;31m# print(ou.cpu().numpy())\u001b[0m\u001b[0;34m\u001b[0m\u001b[0;34m\u001b[0m\u001b[0m\n\u001b[1;32m     28\u001b[0m   \u001b[0;31m# return flat_accuracy(outputs.detach().cpu().numpy(), labels.detach().cpu().numpy())\u001b[0m\u001b[0;34m\u001b[0m\u001b[0;34m\u001b[0m\u001b[0m\n\u001b[0;32m---> 29\u001b[0;31m   \u001b[0;32mreturn\u001b[0m \u001b[0mflat_accuracy\u001b[0m\u001b[0;34m(\u001b[0m\u001b[0mtorch\u001b[0m\u001b[0;34m.\u001b[0m\u001b[0mstack\u001b[0m\u001b[0;34m(\u001b[0m\u001b[0moutputs\u001b[0m\u001b[0;34m)\u001b[0m\u001b[0;34m.\u001b[0m\u001b[0mcpu\u001b[0m\u001b[0;34m(\u001b[0m\u001b[0;34m)\u001b[0m\u001b[0;34m.\u001b[0m\u001b[0mnumpy\u001b[0m\u001b[0;34m(\u001b[0m\u001b[0;34m)\u001b[0m\u001b[0;34m,\u001b[0m \u001b[0mlabels\u001b[0m\u001b[0;34m.\u001b[0m\u001b[0mdetach\u001b[0m\u001b[0;34m(\u001b[0m\u001b[0;34m)\u001b[0m\u001b[0;34m.\u001b[0m\u001b[0mcpu\u001b[0m\u001b[0;34m(\u001b[0m\u001b[0;34m)\u001b[0m\u001b[0;34m.\u001b[0m\u001b[0mnumpy\u001b[0m\u001b[0;34m(\u001b[0m\u001b[0;34m)\u001b[0m\u001b[0;34m)\u001b[0m\u001b[0;34m\u001b[0m\u001b[0;34m\u001b[0m\u001b[0m\n\u001b[0m\u001b[1;32m     30\u001b[0m \u001b[0;34m\u001b[0m\u001b[0m\n\u001b[1;32m     31\u001b[0m \u001b[0;32mdef\u001b[0m \u001b[0mflat_accuracy\u001b[0m\u001b[0;34m(\u001b[0m\u001b[0mpreds\u001b[0m\u001b[0;34m,\u001b[0m \u001b[0mlabels\u001b[0m\u001b[0;34m)\u001b[0m\u001b[0;34m:\u001b[0m\u001b[0;34m\u001b[0m\u001b[0;34m\u001b[0m\u001b[0m\n",
            "\u001b[0;31mKeyboardInterrupt\u001b[0m: "
          ]
        }
      ],
      "source": [
        "print('ACC experiments')\n",
        "criterion=torch.nn.CrossEntropyLoss()\n",
        "for lr in [0.1, 0.01, 0.001, 0.0001]:\n",
        "  print(lr)\n",
        "  n_epochs = 2\n",
        "  total_steps = len(train_dataloader) * n_epochs\n",
        "  torch.manual_seed(15)\n",
        "  model = DistilBertForSequenceClassification.from_pretrained(\n",
        "      \"distilbert-base-uncased\", \n",
        "      num_labels = 2, \n",
        "      output_attentions = False, \n",
        "      output_hidden_states = False, \n",
        "  )\n",
        "  model.to(device)\n",
        "  optimizer = ACC(model.parameters(), lr=lr) # исследуемый оптимизатор здесь\n",
        "  training(model,n_epochs,optimizer)\n",
        "  del model"
      ]
    },
    {
      "cell_type": "code",
      "source": [
        "for beta1 in [0.9, 0.99, 0.5]:\n",
        "  for beta2 in [0.9, 0.99, 0.5]:\n",
        "    print('beta1', beta1, 'beta2', beta2)\n",
        "    optimizer = ACC(model.parameters(), lr=lr, beta1=beta1, beta2=beta2) # исследуемый оптимизатор здесь\n",
        "    n_epochs = 2\n",
        "    total_steps = len(train_dataloader) * n_epochs\n",
        "    torch.manual_seed(15)\n",
        "    model = DistilBertForSequenceClassification.from_pretrained(\n",
        "        \"distilbert-base-uncased\", \n",
        "        num_labels = 2, \n",
        "        output_attentions = False, \n",
        "        output_hidden_states = False, \n",
        "    )\n",
        "    model.cuda()\n",
        "    training(model,n_epochs,optimizer)\n",
        "    del model"
      ],
      "metadata": {
        "id": "yDgHsffmU94Z"
      },
      "execution_count": null,
      "outputs": []
    },
    {
      "cell_type": "code",
      "source": [],
      "metadata": {
        "id": "PsEFi-MvVZMS"
      },
      "execution_count": null,
      "outputs": []
    },
    {
      "cell_type": "code",
      "source": [],
      "metadata": {
        "id": "Es_at_SRVZOf"
      },
      "execution_count": null,
      "outputs": []
    },
    {
      "cell_type": "code",
      "source": [],
      "metadata": {
        "id": "3RlNrSuHU96x"
      },
      "execution_count": null,
      "outputs": []
    },
    {
      "cell_type": "code",
      "source": [],
      "metadata": {
        "id": "fgr_5-XzODX2"
      },
      "execution_count": null,
      "outputs": []
    },
    {
      "cell_type": "markdown",
      "metadata": {
        "id": "CByWROx3y-8w"
      },
      "source": [
        "### Пункт №2 (оптимизация модели обработки изображений)\n",
        "Ваши эксперименты здесь"
      ]
    },
    {
      "cell_type": "markdown",
      "metadata": {
        "id": "Gko4t1E1c5Sa"
      },
      "source": [
        "Аналогичное задание для обработки изображений"
      ]
    },
    {
      "cell_type": "code",
      "execution_count": null,
      "metadata": {
        "id": "vtz8eENwc4lX"
      },
      "outputs": [],
      "source": []
    },
    {
      "cell_type": "code",
      "execution_count": null,
      "metadata": {
        "colab": {
          "base_uri": "https://localhost:8080/"
        },
        "id": "UtOuyurFV0F4",
        "outputId": "2c0bf99f-553b-4ab2-d0a0-c777db6c1570"
      },
      "outputs": [
        {
          "name": "stdout",
          "output_type": "stream",
          "text": [
            "Files already downloaded and verified\n",
            "Files already downloaded and verified\n"
          ]
        }
      ],
      "source": [
        "\n",
        "transform = transforms.Compose(\n",
        "    [transforms.ToTensor(),\n",
        "     transforms.Normalize((0.5, 0.5, 0.5), (0.5, 0.5, 0.5))])\n",
        "BS=32\n",
        "trainset = torchvision.datasets.CIFAR10(root='./data', train=True,\n",
        "                                        download=True, transform=transform)\n",
        "train_dataloader = torch.utils.data.DataLoader(trainset, batch_size=BS,\n",
        "                                          shuffle=True, num_workers=2)\n",
        "\n",
        "testset = torchvision.datasets.CIFAR10(root='./data', train=False,\n",
        "                                       download=True, transform=transform)\n",
        "test_loader = torch.utils.data.DataLoader(testset, batch_size=4,\n",
        "                                         shuffle=False, num_workers=2)\n",
        "classes = ('plane', 'car', 'bird', 'cat',\n",
        "           'deer', 'dog', 'frog', 'horse', 'ship', 'truck')"
      ]
    },
    {
      "cell_type": "code",
      "execution_count": null,
      "metadata": {
        "id": "KfUkTYIJctdf"
      },
      "outputs": [],
      "source": [
        "model=torchvision.models.vgg32(pretrained=True)\n",
        "model.requires_grad_(False)\n",
        "\n",
        "model.classifier[6]=torch.nn.Linear(4096,10) #после небольшой адаптации весов последнего слоя все остальные веса предобученной модели имеет смысл разморозить\n",
        "device=torch.device(\"cuda:0\") if torch.cuda.is_available() else torch.device(\"cpu\")\n",
        "model=model.to(device)\n",
        "# optimizer=#оптимизатор здесь\n",
        "\n",
        "optimizer = ACC(model.parameters())# исследуемый оптимизатор здесь\n",
        "# Number of training epochs (authors recommend between 2 and 4)\n",
        "# epochs = 4\n",
        "# Total number of training steps is number of batches * number of epochs.\n",
        "# total_steps = len(train_dataloader) * epochs\n",
        "\n",
        "criterion=torch.nn.CrossEntropyLoss()\n",
        "model.eval()"
      ]
    },
    {
      "cell_type": "code",
      "execution_count": null,
      "metadata": {
        "id": "NFr3EZ_SjUDi"
      },
      "outputs": [],
      "source": []
    },
    {
      "cell_type": "code",
      "execution_count": null,
      "metadata": {
        "id": "C6NTwNtekBoY"
      },
      "outputs": [],
      "source": []
    }
  ],
  "metadata": {
    "accelerator": "GPU",
    "colab": {
      "provenance": [],
      "toc_visible": true
    },
    "kernelspec": {
      "display_name": "Python 3 (ipykernel)",
      "language": "python",
      "name": "python3"
    },
    "language_info": {
      "codemirror_mode": {
        "name": "ipython",
        "version": 3
      },
      "file_extension": ".py",
      "mimetype": "text/x-python",
      "name": "python",
      "nbconvert_exporter": "python",
      "pygments_lexer": "ipython3",
      "version": "3.9.7"
    }
  },
  "nbformat": 4,
  "nbformat_minor": 0
}